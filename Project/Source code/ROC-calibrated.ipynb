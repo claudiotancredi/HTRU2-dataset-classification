{
 "cells": [
  {
   "cell_type": "code",
   "execution_count": 1,
   "id": "industrial-dairy",
   "metadata": {},
   "outputs": [
    {
     "name": "stderr",
     "output_type": "stream",
     "text": [
      "\n",
      "Bad key \"text.kerning_factor\" on line 4 in\n",
      "/opt/anaconda3/envs/bigdatalab_cpu_202101/lib/python3.7/site-packages/matplotlib/mpl-data/stylelib/_classic_test_patch.mplstyle.\n",
      "You probably need to get an updated matplotlibrc file from\n",
      "https://github.com/matplotlib/matplotlib/blob/v3.1.2/matplotlibrc.template\n",
      "or from the matplotlib source distribution\n"
     ]
    }
   ],
   "source": [
    "import LogisticRegression\n",
    "import PCA\n",
    "import GaussianClassifierTiedCov\n",
    "import GMM\n",
    "import numpy as np\n",
    "import utils"
   ]
  },
  {
   "cell_type": "code",
   "execution_count": 2,
   "id": "assigned-occasions",
   "metadata": {},
   "outputs": [],
   "source": [
    "prior=0.5\n",
    "D, L = utils.load('Train.txt')\n",
    "ZD, mean, standardDeviation = utils.ZNormalization(D)\n",
    "ZD7=PCA.PCA(ZD, L, 7)\n",
    "DT, LT = utils.load('Test.txt')\n",
    "ZDT, mean, standardDeviation = utils.ZNormalization(DT)\n",
    "ZDT7=PCA.PCA(ZDT, LT, 7)\n",
    "gc = GaussianClassifierTiedCov.GaussianClassifierTiedCov()\n",
    "lr = LogisticRegression.LogisticRegression()\n",
    "lambd = 1e-4\n",
    "numberOfSplitToPerform = 3\n",
    "gmm = GMM.GMM()"
   ]
  },
  {
   "cell_type": "code",
   "execution_count": 6,
   "id": "federal-client",
   "metadata": {},
   "outputs": [
    {
     "name": "stdout",
     "output_type": "stream",
     "text": [
      "Start Tied-Cov on z normalized features PCA m=7\n",
      "(8969,)\n",
      "End Tied-Cov\n"
     ]
    }
   ],
   "source": [
    "print(\"Start Tied-Cov on z normalized features PCA m=7\")\n",
    "FPR = []\n",
    "TPR = []\n",
    "gc.train(ZD7, L)\n",
    "un_scores = gc.predictAndGetScores(ZDT7)\n",
    "scores = utils.calibrateScores(un_scores, LT, 1e-4).flatten()\n",
    "print (scores.shape)\n",
    "sortedScores=np.sort(scores)\n",
    "for t in sortedScores:\n",
    "    m = utils.computeOptimalBayesDecisionBinaryTaskTHRESHOLD(\n",
    "        prior, 1, 1, scores, LT, t)\n",
    "    FPRtemp, TPRtemp = utils.computeFPRTPR(prior, 1, 1, m)\n",
    "    FPR.append(FPRtemp)\n",
    "    TPR.append(TPRtemp)\n",
    "print(\"End Tied-Cov\")"
   ]
  },
  {
   "cell_type": "code",
   "execution_count": 7,
   "id": "aware-importance",
   "metadata": {},
   "outputs": [
    {
     "name": "stdout",
     "output_type": "stream",
     "text": [
      "Start Linear Logistic Regression on z normalized features PCA m=7 with lambda=10^(-4) and pi_T=0.5\n",
      "End logistic regression\n"
     ]
    }
   ],
   "source": [
    "print(\"Start Linear Logistic Regression on z normalized features PCA m=7 with lambda=10^(-4) and pi_T=0.5\")\n",
    "FPR1 = []\n",
    "TPR1 = []\n",
    "lr.train(ZD7, L, lambd, prior)\n",
    "scores = lr.predictAndGetScores(ZDT7)\n",
    "scores = utils.calibrateScores(scores, LT, 1e-4).flatten()\n",
    "sortedScores=np.sort(scores)\n",
    "for t in sortedScores:\n",
    "    m = utils.computeOptimalBayesDecisionBinaryTaskTHRESHOLD(\n",
    "        prior, 1, 1, scores, LT, t)\n",
    "    FPRtemp, TPRtemp = utils.computeFPRTPR(prior, 1, 1, m)\n",
    "    FPR1.append(FPRtemp)\n",
    "    TPR1.append(TPRtemp)\n",
    "print(\"End logistic regression\")"
   ]
  },
  {
   "cell_type": "code",
   "execution_count": 8,
   "id": "sweet-monthly",
   "metadata": {},
   "outputs": [
    {
     "name": "stdout",
     "output_type": "stream",
     "text": [
      "Start Full-Cov 8 GMM components on z normalized features\n",
      "End GMM\n"
     ]
    }
   ],
   "source": [
    "print(\"Start Full-Cov 8 GMM components on z normalized features\")\n",
    "FPR2 = []\n",
    "TPR2 = []\n",
    "gmm.train(ZD, L, numberOfSplitToPerform)\n",
    "scores = gmm.predictAndGetScores(DT)\n",
    "scores = utils.calibrateScores(scores, LT, 1e-4).flatten()\n",
    "sortedScores=np.sort(scores)\n",
    "for t in sortedScores:\n",
    "    m = utils.computeOptimalBayesDecisionBinaryTaskTHRESHOLD(\n",
    "        prior, 1, 1, scores, LT, t)\n",
    "    FPRtemp, TPRtemp = utils.computeFPRTPR(prior, 1, 1, m)\n",
    "    FPR2.append(FPRtemp)\n",
    "    TPR2.append(TPRtemp)\n",
    "print(\"End GMM\")"
   ]
  },
  {
   "cell_type": "code",
   "execution_count": 9,
   "id": "fiscal-plymouth",
   "metadata": {},
   "outputs": [
    {
     "data": {
      "image/png": "[encoded data removed]",
      "text/plain": [
       "<Figure size 432x288 with 1 Axes>"
      ]
     },
     "metadata": {
      "needs_background": "light"
     },
     "output_type": "display_data"
    }
   ],
   "source": [
    "utils.plotROC(FPR, TPR, FPR1, TPR1, FPR2, TPR2)"
   ]
  },
  {
   "cell_type": "code",
   "execution_count": null,
   "id": "affected-handbook",
   "metadata": {},
   "outputs": [],
   "source": []
  }
 ],
 "metadata": {
  "kernelspec": {
   "display_name": "Python 3",
   "language": "python",
   "name": "python3"
  },
  "language_info": {
   "codemirror_mode": {
    "name": "ipython",
    "version": 3
   },
   "file_extension": ".py",
   "mimetype": "text/x-python",
   "name": "python",
   "nbconvert_exporter": "python",
   "pygments_lexer": "ipython3",
   "version": "3.7.9"
  }
 },
 "nbformat": 4,
 "nbformat_minor": 5
}
