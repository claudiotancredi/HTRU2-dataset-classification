{
 "cells": [
  {
   "cell_type": "code",
   "execution_count": 1,
   "id": "dying-sunset",
   "metadata": {},
   "outputs": [
    {
     "name": "stderr",
     "output_type": "stream",
     "text": [
      "\n",
      "Bad key \"text.kerning_factor\" on line 4 in\n",
      "/opt/anaconda3/envs/bigdatalab_cpu_202101/lib/python3.7/site-packages/matplotlib/mpl-data/stylelib/_classic_test_patch.mplstyle.\n",
      "You probably need to get an updated matplotlibrc file from\n",
      "https://github.com/matplotlib/matplotlib/blob/v3.1.2/matplotlibrc.template\n",
      "or from the matplotlib source distribution\n"
     ]
    }
   ],
   "source": [
    "import utils\n",
    "import metrics\n",
    "import PCA\n",
    "import SVM\n",
    "import numpy as np"
   ]
  },
  {
   "cell_type": "code",
   "execution_count": 2,
   "id": "still-honduras",
   "metadata": {},
   "outputs": [
    {
     "name": "stdout",
     "output_type": "stream",
     "text": [
      "Executing RBF SVM with no re-balancing\n"
     ]
    }
   ],
   "source": [
    "priors = [0.5, 0.9, 0.1]\n",
    "D, L = utils.load('Train.txt')\n",
    "ZD, mean, standardDeviation = utils.ZNormalization(D)\n",
    "C = 10**(-1)\n",
    "gamma = 10**(-3)\n",
    "model = SVM.SVM()\n",
    "PCA7 = PCA.PCA(ZD, L, 7)\n",
    "PCA6 = PCA.PCA(ZD, L, 6)\n",
    "print (\"Executing RBF SVM with no re-balancing\")"
   ]
  },
  {
   "cell_type": "code",
   "execution_count": 6,
   "id": "southeast-campaign",
   "metadata": {},
   "outputs": [
    {
     "name": "stdout",
     "output_type": "stream",
     "text": [
      "Data with no PCA\n",
      "\n",
      "Working on application with prior: 0.5\n",
      "For prior  0.5 the minDCF is 0.13121879700198436\n",
      "\n",
      "Working on application with prior: 0.9\n",
      "For prior  0.9 the minDCF is 0.6171437960540453\n",
      "\n",
      "Working on application with prior: 0.1\n",
      "For prior  0.1 the minDCF is 0.23989307246047092\n",
      "\n",
      "END\n"
     ]
    }
   ],
   "source": [
    "# SINGLE FOLD Z NORMALIZED SVM LINEAR\n",
    "print (\"Data with no PCA\")\n",
    "(DTRSF, LTRSF), (DEVSF, LEVSF) = utils.split_db_singleFold(ZD, L)\n",
    "model.train(DTRSF, LTRSF, option='RBF',C=C, gamma=gamma) \n",
    "\n",
    "for i in range(len(priors)):\n",
    "    print(\"\")\n",
    "    print(\"Working on application with prior:\", priors[i])\n",
    "    minDCF = metrics.minimum_detection_costs(model.predictAndGetScores(DEVSF), LEVSF, priors[i], 1, 1)\n",
    "    print (\"For prior \", priors[i], \"the minDCF is\", minDCF)\n",
    "    \n",
    "print(\"\")\n",
    "print(\"END\")\n",
    "    "
   ]
  },
  {
   "cell_type": "code",
   "execution_count": 7,
   "id": "educational-style",
   "metadata": {},
   "outputs": [
    {
     "name": "stdout",
     "output_type": "stream",
     "text": [
      "Data with with PCA = 7\n",
      "\n",
      "Working on application with prior: 0.5\n",
      "For prior  0.5 the minDCF is 0.13121879700198436\n",
      "\n",
      "Working on application with prior: 0.9\n",
      "For prior  0.9 the minDCF is 0.6122966670458425\n",
      "\n",
      "Working on application with prior: 0.1\n",
      "For prior  0.1 the minDCF is 0.23989307246047092\n",
      "\n",
      "END\n"
     ]
    }
   ],
   "source": [
    "# SINGLE FOLD Z NORMALIZED SVM LINEAR PCA=7\n",
    "(DTRSF, LTRSF), (DEVSF, LEVSF) = utils.split_db_singleFold(PCA7, L)\n",
    "model.train(DTRSF, LTRSF, option='RBF',C=C, gamma=gamma) \n",
    "print (\"Data with with PCA = 7\")\n",
    "for i in range(len(priors)):\n",
    "    print(\"\")\n",
    "    print(\"Working on application with prior:\", priors[i])\n",
    "    minDCF = metrics.minimum_detection_costs(model.predictAndGetScores(DEVSF), LEVSF, priors[i], 1, 1)\n",
    "    print (\"For prior \", priors[i], \"the minDCF is\", minDCF)\n",
    "    \n",
    "print(\"\")\n",
    "print(\"END\")"
   ]
  },
  {
   "cell_type": "code",
   "execution_count": 8,
   "id": "sticky-designation",
   "metadata": {},
   "outputs": [
    {
     "name": "stdout",
     "output_type": "stream",
     "text": [
      "Data with with PCA = 6\n",
      "\n",
      "Working on application with prior: 0.5\n",
      "For prior  0.5 the minDCF is 0.12935451661421404\n",
      "\n",
      "Working on application with prior: 0.9\n",
      "For prior  0.9 the minDCF is 0.6089409623478559\n",
      "\n",
      "Working on application with prior: 0.1\n",
      "For prior  0.1 the minDCF is 0.23609373222614036\n",
      "\n",
      "END\n"
     ]
    }
   ],
   "source": [
    "# SINGLE FOLD Z NORMALIZED SVM LINEAR PCA=6\n",
    "(DTRSF, LTRSF), (DEVSF, LEVSF) = utils.split_db_singleFold(PCA6, L)\n",
    "model.train(DTRSF, LTRSF, option='RBF',C=C, gamma=gamma) \n",
    "print (\"Data with with PCA = 6\")\n",
    "\n",
    "for i in range(len(priors)):\n",
    "    print(\"\")\n",
    "    print(\"Working on application with prior:\", priors[i])\n",
    "    minDCF = metrics.minimum_detection_costs(model.predictAndGetScores(DEVSF), LEVSF, priors[i], 1, 1)\n",
    "    print (\"For prior \", priors[i], \"the minDCF is\", minDCF)\n",
    "    \n",
    "print(\"\")\n",
    "print(\"END\")"
   ]
  },
  {
   "cell_type": "code",
   "execution_count": 3,
   "id": "working-thunder",
   "metadata": {},
   "outputs": [
    {
     "name": "stdout",
     "output_type": "stream",
     "text": [
      "Start RBF SVM with 3-fold on z normalized features\n",
      "\n",
      "Working on application with prior: 0.5\n",
      "For prior  0.5 the minDCF is 0.1716043052071359\n",
      "\n",
      "Working on application with prior: 0.9\n",
      "For prior  0.9 the minDCF is 0.7076438205385431\n",
      "\n",
      "Working on application with prior: 0.1\n",
      "For prior  0.1 the minDCF is 0.2574842841189108\n",
      "\n",
      "END\n"
     ]
    }
   ],
   "source": [
    "print(\"Start RBF SVM with 3-fold on z normalized features\")\n",
    "\n",
    "for i in range(len(priors)):\n",
    "    print(\"\")\n",
    "    print(\"Working on application with prior:\", priors[i])\n",
    " \n",
    "    temp = utils.KfoldSVM(ZD, L, model, option='RBF',gamma=gamma, C=C, prior=priors[i])\n",
    "    print (\"For prior \", priors[i], \"the minDCF is\", temp)\n",
    "print(\"\")\n",
    "print(\"END\")"
   ]
  },
  {
   "cell_type": "code",
   "execution_count": 4,
   "id": "spread-petersburg",
   "metadata": {},
   "outputs": [
    {
     "name": "stdout",
     "output_type": "stream",
     "text": [
      "Start RBF SVM with 3-fold on z normalized features with PCA = 7\n",
      "\n",
      "Working on application with prior: 0.5\n",
      "For prior  0.5 the minDCF is 0.17098755425117193\n",
      "\n",
      "Working on application with prior: 0.9\n",
      "For prior  0.9 the minDCF is 0.7043292912231908\n",
      "\n",
      "Working on application with prior: 0.1\n",
      "For prior  0.1 the minDCF is 0.25791578442232826\n",
      "\n",
      "END\n"
     ]
    }
   ],
   "source": [
    "print(\"Start RBF SVM with 3-fold on z normalized features with PCA = 7\")\n",
    "\n",
    "for i in range(len(priors)):\n",
    "    print(\"\")\n",
    "    print(\"Working on application with prior:\", priors[i])\n",
    " \n",
    "    temp = utils.KfoldSVM(PCA7, L, model, option='RBF',gamma=gamma, C=C, prior=priors[i])\n",
    "    print (\"For prior \", priors[i], \"the minDCF is\", temp)\n",
    "print(\"\")\n",
    "print(\"END\")"
   ]
  },
  {
   "cell_type": "code",
   "execution_count": 5,
   "id": "opposed-graham",
   "metadata": {},
   "outputs": [
    {
     "name": "stdout",
     "output_type": "stream",
     "text": [
      "Start RBF SVM with 3-fold on z normalized features with PCA = 6\n",
      "\n",
      "Working on application with prior: 0.5\n",
      "For prior  0.5 the minDCF is 0.16841267535146165\n",
      "\n",
      "Working on application with prior: 0.9\n",
      "For prior  0.9 the minDCF is 0.7061795440910827\n",
      "\n",
      "Working on application with prior: 0.1\n",
      "For prior  0.1 the minDCF is 0.2546167302223143\n",
      "\n",
      "END\n"
     ]
    }
   ],
   "source": [
    "print(\"Start RBF SVM with 3-fold on z normalized features with PCA = 6\")\n",
    "\n",
    "for i in range(len(priors)):\n",
    "    print(\"\")\n",
    "    print(\"Working on application with prior:\", priors[i])\n",
    " \n",
    "    temp = utils.KfoldSVM(PCA6, L, model, option='RBF',gamma=gamma, C=C, prior=priors[i])\n",
    "    print (\"For prior \", priors[i], \"the minDCF is\", temp)\n",
    "print(\"\")\n",
    "print(\"END\")"
   ]
  },
  {
   "cell_type": "code",
   "execution_count": null,
   "id": "complex-haiti",
   "metadata": {},
   "outputs": [],
   "source": []
  }
 ],
 "metadata": {
  "kernelspec": {
   "display_name": "Python 3",
   "language": "python",
   "name": "python3"
  },
  "language_info": {
   "codemirror_mode": {
    "name": "ipython",
    "version": 3
   },
   "file_extension": ".py",
   "mimetype": "text/x-python",
   "name": "python",
   "nbconvert_exporter": "python",
   "pygments_lexer": "ipython3",
   "version": "3.7.9"
  }
 },
 "nbformat": 4,
 "nbformat_minor": 5
}
