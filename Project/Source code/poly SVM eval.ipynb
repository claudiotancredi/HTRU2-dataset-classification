{
 "cells": [
  {
   "cell_type": "code",
   "execution_count": 1,
   "id": "several-washer",
   "metadata": {},
   "outputs": [
    {
     "name": "stderr",
     "output_type": "stream",
     "text": [
      "\n",
      "Bad key \"text.kerning_factor\" on line 4 in\n",
      "/opt/anaconda3/envs/bigdatalab_cpu_202101/lib/python3.7/site-packages/matplotlib/mpl-data/stylelib/_classic_test_patch.mplstyle.\n",
      "You probably need to get an updated matplotlibrc file from\n",
      "https://github.com/matplotlib/matplotlib/blob/v3.1.2/matplotlibrc.template\n",
      "or from the matplotlib source distribution\n"
     ]
    }
   ],
   "source": [
    "import utils\n",
    "import metrics\n",
    "import PCA\n",
    "import SVM\n",
    "import numpy as np"
   ]
  },
  {
   "cell_type": "code",
   "execution_count": 2,
   "id": "nearby-cambodia",
   "metadata": {},
   "outputs": [
    {
     "name": "stdout",
     "output_type": "stream",
     "text": [
      "Executing linear SVM with no re-balancing\n"
     ]
    }
   ],
   "source": [
    "priors = [0.5, 0.9, 0.1]\n",
    "D, L = utils.load('Train.txt')\n",
    "ZD, mean, standardDeviation = utils.ZNormalization(D)\n",
    "C = 5*10**(-5)\n",
    "c = 10\n",
    "model = SVM.SVM()\n",
    "PCA7 = PCA.PCA(ZD, L, 7)\n",
    "PCA6 = PCA.PCA(ZD, L, 6)\n",
    "print (\"Executing linear SVM with no re-balancing\")"
   ]
  },
  {
   "cell_type": "code",
   "execution_count": 3,
   "id": "powerful-finding",
   "metadata": {},
   "outputs": [
    {
     "name": "stdout",
     "output_type": "stream",
     "text": [
      "Data with no PCA\n",
      "\n",
      "Working on application with prior: 0.5\n",
      "For prior  0.5 the minDCF is 0.15240334180159001\n",
      "\n",
      "Working on application with prior: 0.9\n",
      "For prior  0.9 the minDCF is 0.5831911424563001\n",
      "\n",
      "Working on application with prior: 0.1\n",
      "For prior  0.1 the minDCF is 0.28057103856216586\n",
      "\n",
      "END\n"
     ]
    }
   ],
   "source": [
    "# SINGLE FOLD Z NORMALIZED SVM LINEAR\n",
    "print (\"Data with no PCA\")\n",
    "(DTRSF, LTRSF), (DEVSF, LEVSF) = utils.split_db_singleFold(ZD, L)\n",
    "model.train(DTRSF, LTRSF, option='polynomial', c = c, d = 2 ,C=C)\n",
    "\n",
    "for i in range(len(priors)):\n",
    "    print(\"\")\n",
    "    print(\"Working on application with prior:\", priors[i])\n",
    "    minDCF = metrics.minimum_detection_costs(model.predictAndGetScores(DEVSF), LEVSF, priors[i], 1, 1)\n",
    "    print (\"For prior \", priors[i], \"the minDCF is\", minDCF)\n",
    "    \n",
    "print(\"\")\n",
    "print(\"END\")\n",
    "    "
   ]
  },
  {
   "cell_type": "code",
   "execution_count": 4,
   "id": "revolutionary-roots",
   "metadata": {},
   "outputs": [
    {
     "name": "stdout",
     "output_type": "stream",
     "text": [
      "Data with with PCA = 7\n",
      "\n",
      "Working on application with prior: 0.5\n",
      "For prior  0.5 the minDCF is 0.15240334180159001\n",
      "\n",
      "Working on application with prior: 0.9\n",
      "For prior  0.9 the minDCF is 0.5831911424563001\n",
      "\n",
      "Working on application with prior: 0.1\n",
      "For prior  0.1 the minDCF is 0.28057103856216586\n",
      "\n",
      "END\n"
     ]
    }
   ],
   "source": [
    "# SINGLE FOLD Z NORMALIZED SVM LINEAR PCA=7\n",
    "(DTRSF, LTRSF), (DEVSF, LEVSF) = utils.split_db_singleFold(PCA7, L)\n",
    "model.train(DTRSF, LTRSF, option='polynomial', c = c, d = 2 ,C=C)\n",
    "print (\"Data with with PCA = 7\")\n",
    "for i in range(len(priors)):\n",
    "    print(\"\")\n",
    "    print(\"Working on application with prior:\", priors[i])\n",
    "    minDCF = metrics.minimum_detection_costs(model.predictAndGetScores(DEVSF), LEVSF, priors[i], 1, 1)\n",
    "    print (\"For prior \", priors[i], \"the minDCF is\", minDCF)\n",
    "    \n",
    "print(\"\")\n",
    "print(\"END\")"
   ]
  },
  {
   "cell_type": "code",
   "execution_count": 5,
   "id": "elect-copper",
   "metadata": {},
   "outputs": [
    {
     "name": "stdout",
     "output_type": "stream",
     "text": [
      "Data with with PCA = 6\n",
      "\n",
      "Working on application with prior: 0.5\n",
      "For prior  0.5 the minDCF is 0.1535901616552282\n",
      "\n",
      "Working on application with prior: 0.9\n",
      "For prior  0.9 the minDCF is 0.5872925593093947\n",
      "\n",
      "Working on application with prior: 0.1\n",
      "For prior  0.1 the minDCF is 0.2806051643726538\n",
      "\n",
      "END\n"
     ]
    }
   ],
   "source": [
    "# SINGLE FOLD Z NORMALIZED SVM LINEAR PCA=6\n",
    "(DTRSF, LTRSF), (DEVSF, LEVSF) = utils.split_db_singleFold(PCA6, L)\n",
    "model.train(DTRSF, LTRSF, option='polynomial', c = c, d = 2 ,C=C)\n",
    "print (\"Data with with PCA = 6\")\n",
    "\n",
    "for i in range(len(priors)):\n",
    "    print(\"\")\n",
    "    print(\"Working on application with prior:\", priors[i])\n",
    "    minDCF = metrics.minimum_detection_costs(model.predictAndGetScores(DEVSF), LEVSF, priors[i], 1, 1)\n",
    "    print (\"For prior \", priors[i], \"the minDCF is\", minDCF)\n",
    "    \n",
    "print(\"\")\n",
    "print(\"END\")"
   ]
  },
  {
   "cell_type": "code",
   "execution_count": 6,
   "id": "premium-muscle",
   "metadata": {},
   "outputs": [
    {
     "name": "stdout",
     "output_type": "stream",
     "text": [
      "Start polynomial SVM with 3-fold on z normalized features\n",
      "\n",
      "Working on application with prior: 0.5\n",
      "For prior  0.5 the minDCF is 0.1885811077087559\n",
      "\n",
      "Working on application with prior: 0.9\n",
      "For prior  0.9 the minDCF is 0.6714584935621266\n",
      "\n",
      "Working on application with prior: 0.1\n",
      "For prior  0.1 the minDCF is 0.33650307766990434\n",
      "\n",
      "END\n"
     ]
    }
   ],
   "source": [
    "print(\"Start polynomial SVM with 3-fold on z normalized features\")\n",
    "\n",
    "for i in range(len(priors)):\n",
    "    print(\"\")\n",
    "    print(\"Working on application with prior:\", priors[i])\n",
    " \n",
    "    temp = utils.KfoldSVM(ZD, L, model, option='polynomial', c = c, d = 2 ,C=C, prior=priors[i])\n",
    "    print (\"For prior \", priors[i], \"the minDCF is\", temp)\n",
    "print(\"\")\n",
    "print(\"END\")"
   ]
  },
  {
   "cell_type": "code",
   "execution_count": 7,
   "id": "original-canada",
   "metadata": {},
   "outputs": [
    {
     "name": "stdout",
     "output_type": "stream",
     "text": [
      "Start polynomial SVM with 3-fold on z normalized features with PCA = 7\n",
      "\n",
      "Working on application with prior: 0.5\n",
      "For prior  0.5 the minDCF is 0.1883963077877241\n",
      "\n",
      "Working on application with prior: 0.9\n",
      "For prior  0.9 the minDCF is 0.6712117931797411\n",
      "\n",
      "Working on application with prior: 0.1\n",
      "For prior  0.1 the minDCF is 0.33650307766990434\n",
      "\n",
      "END\n"
     ]
    }
   ],
   "source": [
    "print(\"Start polynomial SVM with 3-fold on z normalized features with PCA = 7\")\n",
    "\n",
    "for i in range(len(priors)):\n",
    "    print(\"\")\n",
    "    print(\"Working on application with prior:\", priors[i])\n",
    " \n",
    "    temp = utils.KfoldSVM(PCA7, L, model, option='polynomial', c = c, d = 2 ,C=C, prior=priors[i])\n",
    "    print (\"For prior \", priors[i], \"the minDCF is\", temp)\n",
    "print(\"\")\n",
    "print(\"END\")"
   ]
  },
  {
   "cell_type": "code",
   "execution_count": 8,
   "id": "bored-effects",
   "metadata": {},
   "outputs": [
    {
     "name": "stdout",
     "output_type": "stream",
     "text": [
      "Start polynomial SVM with 3-fold on z normalized features with PCA = 6\n",
      "\n",
      "Working on application with prior: 0.5\n",
      "For prior  0.5 the minDCF is 0.188287981980355\n",
      "\n",
      "Working on application with prior: 0.9\n",
      "For prior  0.9 the minDCF is 0.6698549410766204\n",
      "\n",
      "Working on application with prior: 0.1\n",
      "For prior  0.1 the minDCF is 0.3390470063389377\n",
      "\n",
      "END\n"
     ]
    }
   ],
   "source": [
    "print(\"Start polynomial SVM with 3-fold on z normalized features with PCA = 6\")\n",
    "\n",
    "for i in range(len(priors)):\n",
    "    print(\"\")\n",
    "    print(\"Working on application with prior:\", priors[i])\n",
    " \n",
    "    temp = utils.KfoldSVM(PCA6, L, model, option='polynomial', c = c, d = 2 ,C=C, prior=priors[i])\n",
    "    print (\"For prior \", priors[i], \"the minDCF is\", temp)\n",
    "print(\"\")\n",
    "print(\"END\")"
   ]
  }
 ],
 "metadata": {
  "kernelspec": {
   "display_name": "Python 3",
   "language": "python",
   "name": "python3"
  },
  "language_info": {
   "codemirror_mode": {
    "name": "ipython",
    "version": 3
   },
   "file_extension": ".py",
   "mimetype": "text/x-python",
   "name": "python",
   "nbconvert_exporter": "python",
   "pygments_lexer": "ipython3",
   "version": "3.7.9"
  }
 },
 "nbformat": 4,
 "nbformat_minor": 5
}
