{
 "cells": [
  {
   "cell_type": "code",
   "execution_count": 1,
   "id": "quick-taste",
   "metadata": {},
   "outputs": [
    {
     "name": "stderr",
     "output_type": "stream",
     "text": [
      "\n",
      "Bad key \"text.kerning_factor\" on line 4 in\n",
      "/opt/anaconda3/envs/bigdatalab_cpu_202101/lib/python3.7/site-packages/matplotlib/mpl-data/stylelib/_classic_test_patch.mplstyle.\n",
      "You probably need to get an updated matplotlibrc file from\n",
      "https://github.com/matplotlib/matplotlib/blob/v3.1.2/matplotlibrc.template\n",
      "or from the matplotlib source distribution\n"
     ]
    }
   ],
   "source": [
    "import utils\n",
    "import GMM\n",
    "import metrics\n",
    "import PCA\n",
    "import matplotlib.pyplot as plt\n",
    "import numpy as np"
   ]
  },
  {
   "cell_type": "code",
   "execution_count": 2,
   "id": "outdoor-interval",
   "metadata": {},
   "outputs": [],
   "source": [
    "\n",
    "priors = [0.5, 0.9, 0.1]\n",
    "D, L = utils.load('Train.txt')\n",
    "DT, LT = utils.load('Test.txt')\n",
    "ZD, mean, standardDeviation = utils.ZNormalization(D)\n",
    "ZDT, mean, standardDeviation = utils.ZNormalization(DT)\n",
    "D7 = PCA.PCA(ZD, L, 7)\n",
    "DT7 = PCA.PCA(ZDT, L, 7)"
   ]
  },
  {
   "cell_type": "code",
   "execution_count": 3,
   "id": "dimensional-seven",
   "metadata": {},
   "outputs": [
    {
     "name": "stdout",
     "output_type": "stream",
     "text": [
      "Models with PCA m=7\n"
     ]
    }
   ],
   "source": [
    "print (\"Models with PCA m=7\")"
   ]
  },
  {
   "cell_type": "code",
   "execution_count": 4,
   "id": "strange-samba",
   "metadata": {},
   "outputs": [
    {
     "name": "stdout",
     "output_type": "stream",
     "text": [
      "GMM with Full Cov 2 components\n"
     ]
    }
   ],
   "source": [
    "print (\"GMM with Full Cov 2 components\")\n",
    "model = GMM.GMM()\n",
    "model.train(D7, L, 1)"
   ]
  },
  {
   "cell_type": "code",
   "execution_count": 5,
   "id": "located-subscription",
   "metadata": {},
   "outputs": [
    {
     "name": "stdout",
     "output_type": "stream",
     "text": [
      "min DCF of GMM Full-Cov model with 2 components with prior=0.5:  0.153\n",
      "min DCF of GMM Full-Cov model with 2 components with prior=0.9:  0.727\n",
      "min DCF of GMM Full-Cov model with 2 components with prior=0.1:  0.267\n"
     ]
    }
   ],
   "source": [
    "for i in range(len(priors)):\n",
    "    \n",
    "    #scores = utils.calibrateScores(model.predictAndGetScores(DT7), LT, lambd).flatten()\n",
    "    \n",
    "    #minDCFSF=metrics.minimum_detection_costs(scores, LT, priors[i], 1, 1) \n",
    "    minDCFSF=metrics.minimum_detection_costs(model.predictAndGetScores(DT7), LT, priors[i], 1, 1) \n",
    "    \n",
    "    print(\"min DCF of GMM Full-Cov model with 2 components with prior=%.1f:  %.3f\" %(priors[i], minDCFSF))"
   ]
  },
  {
   "cell_type": "code",
   "execution_count": 6,
   "id": "twelve-torture",
   "metadata": {},
   "outputs": [
    {
     "name": "stdout",
     "output_type": "stream",
     "text": [
      "GMM with Full Cov 4 components\n"
     ]
    }
   ],
   "source": [
    "print (\"GMM with Full Cov 4 components\")\n",
    "model = GMM.GMM()\n",
    "model.train(D7, L, 2)"
   ]
  },
  {
   "cell_type": "code",
   "execution_count": 7,
   "id": "indirect-airplane",
   "metadata": {},
   "outputs": [
    {
     "name": "stdout",
     "output_type": "stream",
     "text": [
      "min DCF of GMM Full-Cov model with 4 components with prior=0.5:  0.122\n",
      "min DCF of GMM Full-Cov model with 4 components with prior=0.9:  0.551\n",
      "min DCF of GMM Full-Cov model with 4 components with prior=0.1:  0.246\n"
     ]
    }
   ],
   "source": [
    "for i in range(len(priors)):\n",
    "\n",
    "    minDCFSF=metrics.minimum_detection_costs(model.predictAndGetScores(DT7), LT, priors[i], 1, 1) \n",
    "    \n",
    "    print(\"min DCF of GMM Full-Cov model with 4 components with prior=%.1f:  %.3f\" %(priors[i], minDCFSF))"
   ]
  },
  {
   "cell_type": "code",
   "execution_count": 8,
   "id": "fourth-basketball",
   "metadata": {},
   "outputs": [
    {
     "name": "stdout",
     "output_type": "stream",
     "text": [
      "GMM with Full Cov 8 components\n"
     ]
    }
   ],
   "source": [
    "print (\"GMM with Full Cov 8 components\")\n",
    "model = GMM.GMM()\n",
    "model.train(D7, L, 3)"
   ]
  },
  {
   "cell_type": "code",
   "execution_count": 9,
   "id": "nutritional-buying",
   "metadata": {},
   "outputs": [
    {
     "name": "stdout",
     "output_type": "stream",
     "text": [
      "min DCF of GMM Full-Cov model with 8 components with prior=0.5:  0.116\n",
      "min DCF of GMM Full-Cov model with 8 components with prior=0.9:  0.519\n",
      "min DCF of GMM Full-Cov model with 8 components with prior=0.1:  0.239\n"
     ]
    }
   ],
   "source": [
    "for i in range(len(priors)):\n",
    "\n",
    "    minDCFSF=metrics.minimum_detection_costs(model.predictAndGetScores(DT7), LT, priors[i], 1, 1) \n",
    "    \n",
    "    print(\"min DCF of GMM Full-Cov model with 8 components with prior=%.1f:  %.3f\" %(priors[i], minDCFSF))"
   ]
  },
  {
   "cell_type": "code",
   "execution_count": 10,
   "id": "incorporate-continuity",
   "metadata": {},
   "outputs": [
    {
     "name": "stdout",
     "output_type": "stream",
     "text": [
      "GMM with Full Cov 16 components\n"
     ]
    }
   ],
   "source": [
    "print (\"GMM with Full Cov 16 components\")\n",
    "model = GMM.GMM()\n",
    "model.train(D7, L, 4)"
   ]
  },
  {
   "cell_type": "code",
   "execution_count": 11,
   "id": "hindu-bolivia",
   "metadata": {},
   "outputs": [
    {
     "name": "stdout",
     "output_type": "stream",
     "text": [
      "min DCF of GMM Full-Cov model with 16 components with prior=0.5:  0.125\n",
      "min DCF of GMM Full-Cov model with 16 components with prior=0.9:  0.585\n",
      "min DCF of GMM Full-Cov model with 16 components with prior=0.1:  0.252\n"
     ]
    }
   ],
   "source": [
    "for i in range(len(priors)):\n",
    "\n",
    "    minDCFSF=metrics.minimum_detection_costs(model.predictAndGetScores(DT7), LT, priors[i], 1, 1) \n",
    "    \n",
    "    print(\"min DCF of GMM Full-Cov model with 16 components with prior=%.1f:  %.3f\" %(priors[i], minDCFSF))"
   ]
  },
  {
   "cell_type": "code",
   "execution_count": 4,
   "id": "renewable-property",
   "metadata": {},
   "outputs": [],
   "source": [
    "import GMMTiedCov\n",
    "import GMMDiag"
   ]
  },
  {
   "cell_type": "code",
   "execution_count": 13,
   "id": "editorial-standing",
   "metadata": {},
   "outputs": [
    {
     "name": "stdout",
     "output_type": "stream",
     "text": [
      "GMM with Tied Cov 2 components\n"
     ]
    }
   ],
   "source": [
    "print (\"GMM with Tied Cov 2 components\")\n",
    "model = GMMTiedCov.GMMTiedCov()\n",
    "model.train(D7, L, 1)"
   ]
  },
  {
   "cell_type": "code",
   "execution_count": 14,
   "id": "athletic-lebanon",
   "metadata": {},
   "outputs": [
    {
     "name": "stdout",
     "output_type": "stream",
     "text": [
      "min DCF of GMM Tied-Cov model with 2 components with prior=0.5:  0.137\n",
      "min DCF of GMM Tied-Cov model with 2 components with prior=0.9:  0.562\n",
      "min DCF of GMM Tied-Cov model with 2 components with prior=0.1:  0.278\n"
     ]
    }
   ],
   "source": [
    "for i in range(len(priors)):\n",
    "\n",
    "    minDCFSF=metrics.minimum_detection_costs(model.predictAndGetScores(DT7), LT, priors[i], 1, 1) \n",
    "    \n",
    "    print(\"min DCF of GMM Tied-Cov model with 2 components with prior=%.1f:  %.3f\" %(priors[i], minDCFSF))"
   ]
  },
  {
   "cell_type": "code",
   "execution_count": 15,
   "id": "lightweight-young",
   "metadata": {},
   "outputs": [
    {
     "name": "stdout",
     "output_type": "stream",
     "text": [
      "GMM with Tied Cov 4 components\n"
     ]
    }
   ],
   "source": [
    "print (\"GMM with Tied Cov 4 components\")\n",
    "model = GMMTiedCov.GMMTiedCov()\n",
    "model.train(D7, L, 2)"
   ]
  },
  {
   "cell_type": "code",
   "execution_count": 16,
   "id": "hazardous-isaac",
   "metadata": {},
   "outputs": [
    {
     "name": "stdout",
     "output_type": "stream",
     "text": [
      "min DCF of GMM Tied-Cov model with 4 components with prior=0.5:  0.140\n",
      "min DCF of GMM Tied-Cov model with 4 components with prior=0.9:  0.612\n",
      "min DCF of GMM Tied-Cov model with 4 components with prior=0.1:  0.306\n"
     ]
    }
   ],
   "source": [
    "for i in range(len(priors)):\n",
    "\n",
    "    minDCFSF=metrics.minimum_detection_costs(model.predictAndGetScores(DT7), LT, priors[i], 1, 1) \n",
    "    \n",
    "    print(\"min DCF of GMM Tied-Cov model with 4 components with prior=%.1f:  %.3f\" %(priors[i], minDCFSF))"
   ]
  },
  {
   "cell_type": "code",
   "execution_count": 17,
   "id": "departmental-cartoon",
   "metadata": {},
   "outputs": [
    {
     "name": "stdout",
     "output_type": "stream",
     "text": [
      "GMM with Tied Cov 8 components\n"
     ]
    }
   ],
   "source": [
    "print (\"GMM with Tied Cov 8 components\")\n",
    "model = GMMTiedCov.GMMTiedCov()\n",
    "model.train(D7, L, 3)"
   ]
  },
  {
   "cell_type": "code",
   "execution_count": 18,
   "id": "extensive-minute",
   "metadata": {},
   "outputs": [
    {
     "name": "stdout",
     "output_type": "stream",
     "text": [
      "min DCF of GMM Tied-Cov model with 8 components with prior=0.5:  0.132\n",
      "min DCF of GMM Tied-Cov model with 8 components with prior=0.9:  0.654\n",
      "min DCF of GMM Tied-Cov model with 8 components with prior=0.1:  0.278\n"
     ]
    }
   ],
   "source": [
    "for i in range(len(priors)):\n",
    "\n",
    "    minDCFSF=metrics.minimum_detection_costs(model.predictAndGetScores(DT7), LT, priors[i], 1, 1) \n",
    "    \n",
    "    print(\"min DCF of GMM Tied-Cov model with 8 components with prior=%.1f:  %.3f\" %(priors[i], minDCFSF))"
   ]
  },
  {
   "cell_type": "code",
   "execution_count": 19,
   "id": "bigger-comparison",
   "metadata": {},
   "outputs": [
    {
     "name": "stdout",
     "output_type": "stream",
     "text": [
      "GMM with Tied Cov 16 components\n"
     ]
    }
   ],
   "source": [
    "print (\"GMM with Tied Cov 16 components\")\n",
    "model = GMMTiedCov.GMMTiedCov()\n",
    "model.train(D7, L, 4)"
   ]
  },
  {
   "cell_type": "code",
   "execution_count": 20,
   "id": "bound-subdivision",
   "metadata": {},
   "outputs": [
    {
     "name": "stdout",
     "output_type": "stream",
     "text": [
      "min DCF of GMM Tied-Cov model with 16 components with prior=0.5:  0.132\n",
      "min DCF of GMM Tied-Cov model with 16 components with prior=0.9:  0.600\n",
      "min DCF of GMM Tied-Cov model with 16 components with prior=0.1:  0.260\n"
     ]
    }
   ],
   "source": [
    "for i in range(len(priors)):\n",
    "\n",
    "    minDCFSF=metrics.minimum_detection_costs(model.predictAndGetScores(DT7), LT, priors[i], 1, 1) \n",
    "    \n",
    "    print(\"min DCF of GMM Tied-Cov model with 16 components with prior=%.1f:  %.3f\" %(priors[i], minDCFSF))"
   ]
  },
  {
   "cell_type": "code",
   "execution_count": 21,
   "id": "significant-begin",
   "metadata": {},
   "outputs": [
    {
     "name": "stdout",
     "output_type": "stream",
     "text": [
      "GMM with Diag Cov 2 components\n"
     ]
    }
   ],
   "source": [
    "print (\"GMM with Diag Cov 2 components\")\n",
    "model = GMMDiag.GMMDiag()\n",
    "model.train(D7, L, 1)"
   ]
  },
  {
   "cell_type": "code",
   "execution_count": 22,
   "id": "informal-maker",
   "metadata": {},
   "outputs": [
    {
     "name": "stdout",
     "output_type": "stream",
     "text": [
      "min DCF of GMM Diag-Cov model with 2 components with prior=0.5:  0.156\n",
      "min DCF of GMM Diag-Cov model with 2 components with prior=0.9:  0.635\n",
      "min DCF of GMM Diag-Cov model with 2 components with prior=0.1:  0.250\n"
     ]
    }
   ],
   "source": [
    "for i in range(len(priors)):\n",
    "\n",
    "    minDCFSF=metrics.minimum_detection_costs(model.predictAndGetScores(DT7), LT, priors[i], 1, 1) \n",
    "    \n",
    "    print(\"min DCF of GMM Diag-Cov model with 2 components with prior=%.1f:  %.3f\" %(priors[i], minDCFSF))"
   ]
  },
  {
   "cell_type": "code",
   "execution_count": 23,
   "id": "structural-champagne",
   "metadata": {},
   "outputs": [
    {
     "name": "stdout",
     "output_type": "stream",
     "text": [
      "GMM with Diag Cov 4 components\n"
     ]
    }
   ],
   "source": [
    "print (\"GMM with Diag Cov 4 components\")\n",
    "model = GMMDiag.GMMDiag()\n",
    "model.train(D7, L, 2)"
   ]
  },
  {
   "cell_type": "code",
   "execution_count": 24,
   "id": "neutral-transparency",
   "metadata": {},
   "outputs": [
    {
     "name": "stdout",
     "output_type": "stream",
     "text": [
      "min DCF of GMM Diag-Cov model with 4 components with prior=0.5:  0.130\n",
      "min DCF of GMM Diag-Cov model with 4 components with prior=0.9:  0.608\n",
      "min DCF of GMM Diag-Cov model with 4 components with prior=0.1:  0.224\n"
     ]
    }
   ],
   "source": [
    "for i in range(len(priors)):\n",
    "\n",
    "    minDCFSF=metrics.minimum_detection_costs(model.predictAndGetScores(DT7), LT, priors[i], 1, 1) \n",
    "    \n",
    "    print(\"min DCF of GMM Diag-Cov model with 4 components with prior=%.1f:  %.3f\" %(priors[i], minDCFSF))"
   ]
  },
  {
   "cell_type": "code",
   "execution_count": 25,
   "id": "loaded-comedy",
   "metadata": {},
   "outputs": [
    {
     "name": "stdout",
     "output_type": "stream",
     "text": [
      "GMM with Diag Cov 8 components\n"
     ]
    }
   ],
   "source": [
    "print (\"GMM with Diag Cov 8 components\")\n",
    "model = GMMDiag.GMMDiag()\n",
    "model.train(D7, L, 3)"
   ]
  },
  {
   "cell_type": "code",
   "execution_count": 26,
   "id": "static-triangle",
   "metadata": {},
   "outputs": [
    {
     "name": "stdout",
     "output_type": "stream",
     "text": [
      "min DCF of GMM Diag-Cov model with 8 components with prior=0.5:  0.118\n",
      "min DCF of GMM Diag-Cov model with 8 components with prior=0.9:  0.539\n",
      "min DCF of GMM Diag-Cov model with 8 components with prior=0.1:  0.236\n"
     ]
    }
   ],
   "source": [
    "for i in range(len(priors)):\n",
    "\n",
    "    minDCFSF=metrics.minimum_detection_costs(model.predictAndGetScores(DT7), LT, priors[i], 1, 1) \n",
    "    \n",
    "    print(\"min DCF of GMM Diag-Cov model with 8 components with prior=%.1f:  %.3f\" %(priors[i], minDCFSF))"
   ]
  },
  {
   "cell_type": "code",
   "execution_count": 5,
   "id": "naughty-plate",
   "metadata": {},
   "outputs": [
    {
     "name": "stdout",
     "output_type": "stream",
     "text": [
      "GMM with Diag Cov 16 components\n"
     ]
    }
   ],
   "source": [
    "print (\"GMM with Diag Cov 16 components\")\n",
    "model = GMMDiag.GMMDiag()\n",
    "model.train(D7, L, 4)"
   ]
  },
  {
   "cell_type": "code",
   "execution_count": 6,
   "id": "sixth-qualification",
   "metadata": {},
   "outputs": [
    {
     "name": "stdout",
     "output_type": "stream",
     "text": [
      "min DCF of GMM Diag-Cov model with 16 components with prior=0.5:  0.127\n",
      "min DCF of GMM Diag-Cov model with 16 components with prior=0.9:  0.607\n",
      "min DCF of GMM Diag-Cov model with 16 components with prior=0.1:  0.246\n"
     ]
    }
   ],
   "source": [
    "for i in range(len(priors)):\n",
    "\n",
    "    minDCFSF=metrics.minimum_detection_costs(model.predictAndGetScores(DT7), LT, priors[i], 1, 1) \n",
    "    \n",
    "    print(\"min DCF of GMM Diag-Cov model with 16 components with prior=%.1f:  %.3f\" %(priors[i], minDCFSF))"
   ]
  },
  {
   "cell_type": "code",
   "execution_count": null,
   "id": "addressed-reform",
   "metadata": {},
   "outputs": [],
   "source": []
  }
 ],
 "metadata": {
  "kernelspec": {
   "display_name": "Python 3",
   "language": "python",
   "name": "python3"
  },
  "language_info": {
   "codemirror_mode": {
    "name": "ipython",
    "version": 3
   },
   "file_extension": ".py",
   "mimetype": "text/x-python",
   "name": "python",
   "nbconvert_exporter": "python",
   "pygments_lexer": "ipython3",
   "version": "3.7.9"
  }
 },
 "nbformat": 4,
 "nbformat_minor": 5
}
