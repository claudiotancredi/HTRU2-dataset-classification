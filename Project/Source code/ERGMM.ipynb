{
 "cells": [
  {
   "cell_type": "code",
   "execution_count": 5,
   "id": "catholic-gates",
   "metadata": {},
   "outputs": [],
   "source": [
    "import utils\n",
    "import GMM\n",
    "import metrics\n",
    "import PCA\n",
    "import matplotlib.pyplot as plt\n",
    "import numpy as np"
   ]
  },
  {
   "cell_type": "code",
   "execution_count": 6,
   "id": "abroad-participation",
   "metadata": {},
   "outputs": [],
   "source": [
    "\n",
    "priors = [0.5, 0.9, 0.1]\n",
    "D, L = utils.load('Train.txt')\n",
    "DT, LT = utils.load('Test.txt')\n",
    "ZD, mean, standardDeviation = utils.ZNormalization(D)\n",
    "ZDT, mean, standardDeviation = utils.ZNormalization(DT)\n",
    "D7 = PCA.PCA(ZD, L, 7)\n",
    "DT7 = PCA.PCA(ZDT, L, 7)"
   ]
  },
  {
   "cell_type": "code",
   "execution_count": 7,
   "id": "civic-farming",
   "metadata": {},
   "outputs": [
    {
     "name": "stdout",
     "output_type": "stream",
     "text": [
      "Models without PCA\n"
     ]
    }
   ],
   "source": [
    "print (\"Models without PCA\")"
   ]
  },
  {
   "cell_type": "code",
   "execution_count": 8,
   "id": "greater-adaptation",
   "metadata": {},
   "outputs": [
    {
     "name": "stdout",
     "output_type": "stream",
     "text": [
      "GMM with Full Cov 2 components\n"
     ]
    }
   ],
   "source": [
    "print (\"GMM with Full Cov 2 components\")\n",
    "model = GMM.GMM()\n",
    "model.train(ZD, L, 1)"
   ]
  },
  {
   "cell_type": "code",
   "execution_count": 9,
   "id": "drawn-concentrate",
   "metadata": {},
   "outputs": [
    {
     "name": "stdout",
     "output_type": "stream",
     "text": [
      "min DCF of GMM Full-Cov model with 2 components with prior=0.5:  0.153\n",
      "min DCF of GMM Full-Cov model with 2 components with prior=0.9:  0.748\n",
      "min DCF of GMM Full-Cov model with 2 components with prior=0.1:  0.264\n"
     ]
    }
   ],
   "source": [
    "for i in range(len(priors)):\n",
    "    \n",
    "    #scores = utils.calibrateScores(model.predictAndGetScores(DT7), LT, lambd).flatten()\n",
    "    \n",
    "    #minDCFSF=metrics.minimum_detection_costs(scores, LT, priors[i], 1, 1) \n",
    "    minDCFSF=metrics.minimum_detection_costs(model.predictAndGetScores(ZDT), LT, priors[i], 1, 1) \n",
    "    \n",
    "    print(\"min DCF of GMM Full-Cov model with 2 components with prior=%.1f:  %.3f\" %(priors[i], minDCFSF))"
   ]
  },
  {
   "cell_type": "code",
   "execution_count": 10,
   "id": "overhead-portfolio",
   "metadata": {},
   "outputs": [
    {
     "name": "stdout",
     "output_type": "stream",
     "text": [
      "GMM with Full Cov 4 components\n"
     ]
    }
   ],
   "source": [
    "print (\"GMM with Full Cov 4 components\")\n",
    "model = GMM.GMM()\n",
    "model.train(ZD, L, 2)"
   ]
  },
  {
   "cell_type": "code",
   "execution_count": 11,
   "id": "plastic-portrait",
   "metadata": {},
   "outputs": [
    {
     "name": "stdout",
     "output_type": "stream",
     "text": [
      "min DCF of GMM Full-Cov model with 4 components with prior=0.5:  0.122\n",
      "min DCF of GMM Full-Cov model with 4 components with prior=0.9:  0.530\n",
      "min DCF of GMM Full-Cov model with 4 components with prior=0.1:  0.250\n"
     ]
    }
   ],
   "source": [
    "for i in range(len(priors)):\n",
    "\n",
    "    minDCFSF=metrics.minimum_detection_costs(model.predictAndGetScores(ZDT), LT, priors[i], 1, 1) \n",
    "    \n",
    "    print(\"min DCF of GMM Full-Cov model with 4 components with prior=%.1f:  %.3f\" %(priors[i], minDCFSF))"
   ]
  },
  {
   "cell_type": "code",
   "execution_count": 12,
   "id": "revised-oxygen",
   "metadata": {},
   "outputs": [
    {
     "name": "stdout",
     "output_type": "stream",
     "text": [
      "GMM with Full Cov 8 components\n"
     ]
    }
   ],
   "source": [
    "print (\"GMM with Full Cov 8 components\")\n",
    "model = GMM.GMM()\n",
    "model.train(ZD, L, 3)"
   ]
  },
  {
   "cell_type": "code",
   "execution_count": 13,
   "id": "wanted-columbia",
   "metadata": {},
   "outputs": [
    {
     "name": "stdout",
     "output_type": "stream",
     "text": [
      "min DCF of GMM Full-Cov model with 8 components with prior=0.5:  0.109\n",
      "min DCF of GMM Full-Cov model with 8 components with prior=0.9:  0.563\n",
      "min DCF of GMM Full-Cov model with 8 components with prior=0.1:  0.223\n"
     ]
    }
   ],
   "source": [
    "for i in range(len(priors)):\n",
    "\n",
    "    minDCFSF=metrics.minimum_detection_costs(model.predictAndGetScores(ZDT), LT, priors[i], 1, 1) \n",
    "    \n",
    "    print(\"min DCF of GMM Full-Cov model with 8 components with prior=%.1f:  %.3f\" %(priors[i], minDCFSF))"
   ]
  },
  {
   "cell_type": "code",
   "execution_count": null,
   "id": "boring-preliminary",
   "metadata": {},
   "outputs": [
    {
     "name": "stdout",
     "output_type": "stream",
     "text": [
      "GMM with Full Cov 16 components\n"
     ]
    }
   ],
   "source": [
    "print (\"GMM with Full Cov 16 components\")\n",
    "model = GMM.GMM()\n",
    "model.train(ZD, L, 4)"
   ]
  },
  {
   "cell_type": "code",
   "execution_count": 15,
   "id": "surprised-establishment",
   "metadata": {},
   "outputs": [
    {
     "name": "stdout",
     "output_type": "stream",
     "text": [
      "min DCF of GMM Full-Cov model with 16 components with prior=0.5:  0.124\n",
      "min DCF of GMM Full-Cov model with 16 components with prior=0.9:  0.522\n",
      "min DCF of GMM Full-Cov model with 16 components with prior=0.1:  0.240\n"
     ]
    }
   ],
   "source": [
    "for i in range(len(priors)):\n",
    "\n",
    "    minDCFSF=metrics.minimum_detection_costs(model.predictAndGetScores(ZDT), LT, priors[i], 1, 1) \n",
    "    \n",
    "    print(\"min DCF of GMM Full-Cov model with 16 components with prior=%.1f:  %.3f\" %(priors[i], minDCFSF))"
   ]
  },
  {
   "cell_type": "code",
   "execution_count": 16,
   "id": "suitable-landscape",
   "metadata": {},
   "outputs": [],
   "source": [
    "import GMMTiedCov\n",
    "import GMMDiag"
   ]
  },
  {
   "cell_type": "code",
   "execution_count": 17,
   "id": "wanted-entrance",
   "metadata": {},
   "outputs": [
    {
     "name": "stdout",
     "output_type": "stream",
     "text": [
      "GMM with Tied Cov 2 components\n"
     ]
    }
   ],
   "source": [
    "print (\"GMM with Tied Cov 2 components\")\n",
    "model = GMMTiedCov.GMMTiedCov()\n",
    "model.train(ZD, L, 1)"
   ]
  },
  {
   "cell_type": "code",
   "execution_count": 18,
   "id": "parallel-appendix",
   "metadata": {},
   "outputs": [
    {
     "name": "stdout",
     "output_type": "stream",
     "text": [
      "min DCF of GMM Tied-Cov model with 2 components with prior=0.5:  0.138\n",
      "min DCF of GMM Tied-Cov model with 2 components with prior=0.9:  0.594\n",
      "min DCF of GMM Tied-Cov model with 2 components with prior=0.1:  0.275\n"
     ]
    }
   ],
   "source": [
    "for i in range(len(priors)):\n",
    "\n",
    "    minDCFSF=metrics.minimum_detection_costs(model.predictAndGetScores(ZDT), LT, priors[i], 1, 1) \n",
    "    \n",
    "    print(\"min DCF of GMM Tied-Cov model with 2 components with prior=%.1f:  %.3f\" %(priors[i], minDCFSF))"
   ]
  },
  {
   "cell_type": "code",
   "execution_count": 19,
   "id": "supported-reporter",
   "metadata": {},
   "outputs": [
    {
     "name": "stdout",
     "output_type": "stream",
     "text": [
      "GMM with Tied Cov 4 components\n"
     ]
    }
   ],
   "source": [
    "print (\"GMM with Tied Cov 4 components\")\n",
    "model = GMMTiedCov.GMMTiedCov()\n",
    "model.train(ZD, L, 2)"
   ]
  },
  {
   "cell_type": "code",
   "execution_count": 20,
   "id": "rapid-clinton",
   "metadata": {},
   "outputs": [
    {
     "name": "stdout",
     "output_type": "stream",
     "text": [
      "min DCF of GMM Tied-Cov model with 4 components with prior=0.5:  0.143\n",
      "min DCF of GMM Tied-Cov model with 4 components with prior=0.9:  0.634\n",
      "min DCF of GMM Tied-Cov model with 4 components with prior=0.1:  0.303\n"
     ]
    }
   ],
   "source": [
    "for i in range(len(priors)):\n",
    "\n",
    "    minDCFSF=metrics.minimum_detection_costs(model.predictAndGetScores(ZDT), LT, priors[i], 1, 1) \n",
    "    \n",
    "    print(\"min DCF of GMM Tied-Cov model with 4 components with prior=%.1f:  %.3f\" %(priors[i], minDCFSF))"
   ]
  },
  {
   "cell_type": "code",
   "execution_count": 21,
   "id": "threatened-pipeline",
   "metadata": {},
   "outputs": [
    {
     "name": "stdout",
     "output_type": "stream",
     "text": [
      "GMM with Tied Cov 8 components\n"
     ]
    }
   ],
   "source": [
    "print (\"GMM with Tied Cov 8 components\")\n",
    "model = GMMTiedCov.GMMTiedCov()\n",
    "model.train(ZD, L, 3)"
   ]
  },
  {
   "cell_type": "code",
   "execution_count": 22,
   "id": "balanced-depth",
   "metadata": {},
   "outputs": [
    {
     "name": "stdout",
     "output_type": "stream",
     "text": [
      "min DCF of GMM Tied-Cov model with 8 components with prior=0.5:  0.137\n",
      "min DCF of GMM Tied-Cov model with 8 components with prior=0.9:  0.594\n",
      "min DCF of GMM Tied-Cov model with 8 components with prior=0.1:  0.281\n"
     ]
    }
   ],
   "source": [
    "for i in range(len(priors)):\n",
    "\n",
    "    minDCFSF=metrics.minimum_detection_costs(model.predictAndGetScores(ZDT), LT, priors[i], 1, 1) \n",
    "    \n",
    "    print(\"min DCF of GMM Tied-Cov model with 8 components with prior=%.1f:  %.3f\" %(priors[i], minDCFSF))"
   ]
  },
  {
   "cell_type": "code",
   "execution_count": 23,
   "id": "comprehensive-health",
   "metadata": {},
   "outputs": [
    {
     "name": "stdout",
     "output_type": "stream",
     "text": [
      "GMM with Tied Cov 16 components\n"
     ]
    }
   ],
   "source": [
    "print (\"GMM with Tied Cov 16 components\")\n",
    "model = GMMTiedCov.GMMTiedCov()\n",
    "model.train(ZD, L, 4)"
   ]
  },
  {
   "cell_type": "code",
   "execution_count": 24,
   "id": "considered-temperature",
   "metadata": {},
   "outputs": [
    {
     "name": "stdout",
     "output_type": "stream",
     "text": [
      "min DCF of GMM Tied-Cov model with 16 components with prior=0.5:  0.131\n",
      "min DCF of GMM Tied-Cov model with 16 components with prior=0.9:  0.595\n",
      "min DCF of GMM Tied-Cov model with 16 components with prior=0.1:  0.264\n"
     ]
    }
   ],
   "source": [
    "for i in range(len(priors)):\n",
    "\n",
    "    minDCFSF=metrics.minimum_detection_costs(model.predictAndGetScores(ZDT), LT, priors[i], 1, 1) \n",
    "    \n",
    "    print(\"min DCF of GMM Tied-Cov model with 16 components with prior=%.1f:  %.3f\" %(priors[i], minDCFSF))"
   ]
  },
  {
   "cell_type": "code",
   "execution_count": 25,
   "id": "stopped-single",
   "metadata": {},
   "outputs": [
    {
     "name": "stdout",
     "output_type": "stream",
     "text": [
      "GMM with Diag Cov 2 components\n"
     ]
    }
   ],
   "source": [
    "print (\"GMM with Diag Cov 2 components\")\n",
    "model = GMMDiag.GMMDiag()\n",
    "model.train(ZD, L, 1)"
   ]
  },
  {
   "cell_type": "code",
   "execution_count": 26,
   "id": "unknown-toolbox",
   "metadata": {},
   "outputs": [
    {
     "name": "stdout",
     "output_type": "stream",
     "text": [
      "min DCF of GMM Diag-Cov model with 2 components with prior=0.5:  0.179\n",
      "min DCF of GMM Diag-Cov model with 2 components with prior=0.9:  0.643\n",
      "min DCF of GMM Diag-Cov model with 2 components with prior=0.1:  0.323\n"
     ]
    }
   ],
   "source": [
    "for i in range(len(priors)):\n",
    "\n",
    "    minDCFSF=metrics.minimum_detection_costs(model.predictAndGetScores(ZDT), LT, priors[i], 1, 1) \n",
    "    \n",
    "    print(\"min DCF of GMM Diag-Cov model with 2 components with prior=%.1f:  %.3f\" %(priors[i], minDCFSF))"
   ]
  },
  {
   "cell_type": "code",
   "execution_count": 27,
   "id": "divided-packet",
   "metadata": {},
   "outputs": [
    {
     "name": "stdout",
     "output_type": "stream",
     "text": [
      "GMM with Diag Cov 4 components\n"
     ]
    }
   ],
   "source": [
    "print (\"GMM with Diag Cov 4 components\")\n",
    "model = GMMDiag.GMMDiag()\n",
    "model.train(ZD, L, 2)"
   ]
  },
  {
   "cell_type": "code",
   "execution_count": 28,
   "id": "occasional-morris",
   "metadata": {},
   "outputs": [
    {
     "name": "stdout",
     "output_type": "stream",
     "text": [
      "min DCF of GMM Diag-Cov model with 4 components with prior=0.5:  0.165\n",
      "min DCF of GMM Diag-Cov model with 4 components with prior=0.9:  0.579\n",
      "min DCF of GMM Diag-Cov model with 4 components with prior=0.1:  0.333\n"
     ]
    }
   ],
   "source": [
    "for i in range(len(priors)):\n",
    "\n",
    "    minDCFSF=metrics.minimum_detection_costs(model.predictAndGetScores(ZDT), LT, priors[i], 1, 1) \n",
    "    \n",
    "    print(\"min DCF of GMM Diag-Cov model with 4 components with prior=%.1f:  %.3f\" %(priors[i], minDCFSF))"
   ]
  },
  {
   "cell_type": "code",
   "execution_count": 29,
   "id": "norman-hometown",
   "metadata": {},
   "outputs": [
    {
     "name": "stdout",
     "output_type": "stream",
     "text": [
      "GMM with Diag Cov 8 components\n"
     ]
    }
   ],
   "source": [
    "print (\"GMM with Diag Cov 8 components\")\n",
    "model = GMMDiag.GMMDiag()\n",
    "model.train(ZD, L, 3)"
   ]
  },
  {
   "cell_type": "code",
   "execution_count": 30,
   "id": "identified-sharing",
   "metadata": {},
   "outputs": [
    {
     "name": "stdout",
     "output_type": "stream",
     "text": [
      "min DCF of GMM Diag-Cov model with 8 components with prior=0.5:  0.131\n",
      "min DCF of GMM Diag-Cov model with 8 components with prior=0.9:  0.546\n",
      "min DCF of GMM Diag-Cov model with 8 components with prior=0.1:  0.261\n"
     ]
    }
   ],
   "source": [
    "for i in range(len(priors)):\n",
    "\n",
    "    minDCFSF=metrics.minimum_detection_costs(model.predictAndGetScores(ZDT), LT, priors[i], 1, 1) \n",
    "    \n",
    "    print(\"min DCF of GMM Diag-Cov model with 8 components with prior=%.1f:  %.3f\" %(priors[i], minDCFSF))"
   ]
  },
  {
   "cell_type": "code",
   "execution_count": 31,
   "id": "piano-karen",
   "metadata": {},
   "outputs": [
    {
     "name": "stdout",
     "output_type": "stream",
     "text": [
      "GMM with Diag Cov 16 components\n"
     ]
    }
   ],
   "source": [
    "print (\"GMM with Diag Cov 16 components\")\n",
    "model = GMMDiag.GMMDiag()\n",
    "model.train(ZD, L, 4)"
   ]
  },
  {
   "cell_type": "code",
   "execution_count": 32,
   "id": "derived-building",
   "metadata": {},
   "outputs": [
    {
     "name": "stdout",
     "output_type": "stream",
     "text": [
      "min DCF of GMM Diag-Cov model with 16 components with prior=0.5:  0.134\n",
      "min DCF of GMM Diag-Cov model with 16 components with prior=0.9:  0.594\n",
      "min DCF of GMM Diag-Cov model with 16 components with prior=0.1:  0.259\n"
     ]
    }
   ],
   "source": [
    "for i in range(len(priors)):\n",
    "\n",
    "    minDCFSF=metrics.minimum_detection_costs(model.predictAndGetScores(ZDT), LT, priors[i], 1, 1) \n",
    "    \n",
    "    print(\"min DCF of GMM Diag-Cov model with 16 components with prior=%.1f:  %.3f\" %(priors[i], minDCFSF))"
   ]
  }
 ],
 "metadata": {
  "kernelspec": {
   "display_name": "Python 3",
   "language": "python",
   "name": "python3"
  },
  "language_info": {
   "codemirror_mode": {
    "name": "ipython",
    "version": 3
   },
   "file_extension": ".py",
   "mimetype": "text/x-python",
   "name": "python",
   "nbconvert_exporter": "python",
   "pygments_lexer": "ipython3",
   "version": "3.7.9"
  }
 },
 "nbformat": 4,
 "nbformat_minor": 5
}
