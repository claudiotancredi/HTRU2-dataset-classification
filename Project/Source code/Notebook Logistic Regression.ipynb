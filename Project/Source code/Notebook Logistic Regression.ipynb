{
 "cells": [
  {
   "cell_type": "code",
   "execution_count": 1,
   "id": "latin-latter",
   "metadata": {},
   "outputs": [
    {
     "name": "stderr",
     "output_type": "stream",
     "text": [
      "\n",
      "Bad key \"text.kerning_factor\" on line 4 in\n",
      "/opt/anaconda3/envs/bigdatalab_cpu_202101/lib/python3.7/site-packages/matplotlib/mpl-data/stylelib/_classic_test_patch.mplstyle.\n",
      "You probably need to get an updated matplotlibrc file from\n",
      "https://github.com/matplotlib/matplotlib/blob/v3.1.2/matplotlibrc.template\n",
      "or from the matplotlib source distribution\n"
     ]
    }
   ],
   "source": [
    "import utils\n",
    "import metrics\n",
    "import LogisticRegression\n",
    "import matplotlib.pyplot as plt\n",
    "import numpy as np\n",
    "import PCA"
   ]
  },
  {
   "cell_type": "code",
   "execution_count": 2,
   "id": "reliable-elite",
   "metadata": {},
   "outputs": [],
   "source": [
    "priors = [0.5, 0.9, 0.1]\n",
    "D, L = utils.load('Train.txt')\n",
    "ZD, mean, standardDeviation = utils.ZNormalization(D)\n",
    "lambd = 1e-4\n",
    "lr = LogisticRegression.LogisticRegression()\n",
    "PCA7 = PCA.PCA(ZD, L, 7)\n",
    "PCA6 = PCA.PCA(ZD, L, 6)"
   ]
  },
  {
   "cell_type": "code",
   "execution_count": 3,
   "id": "auburn-marijuana",
   "metadata": {},
   "outputs": [
    {
     "name": "stdout",
     "output_type": "stream",
     "text": [
      "Start logistic regression with 3-fold on z normalized features\n",
      "\n",
      "minDCF for Log-Reg (lambda=10^(-4), pi_T = 0.5 ) on application with prior 0.5 : 0.11628467421201238\n",
      "minDCF for Log-Reg (lambda=10^(-4), pi_T = 0.5 ) on application with prior 0.9 : 0.5234263948675504\n",
      "minDCF for Log-Reg (lambda=10^(-4), pi_T = 0.5 ) on application with prior 0.1 : 0.22140638148683406\n",
      "\n",
      "minDCF for Log-Reg (lambda=10^(-4), pi_T = 0.9 ) on application with prior 0.5 : 0.12292965868957023\n",
      "minDCF for Log-Reg (lambda=10^(-4), pi_T = 0.9 ) on application with prior 0.9 : 0.5203704351978043\n",
      "minDCF for Log-Reg (lambda=10^(-4), pi_T = 0.9 ) on application with prior 0.1 : 0.22287155939732387\n",
      "\n",
      "minDCF for Log-Reg (lambda=10^(-4), pi_T = 0.1 ) on application with prior 0.5 : 0.11529787268247002\n",
      "minDCF for Log-Reg (lambda=10^(-4), pi_T = 0.1 ) on application with prior 0.9 : 0.5485420563303214\n",
      "minDCF for Log-Reg (lambda=10^(-4), pi_T = 0.1 ) on application with prior 0.1 : 0.2135274443658335\n",
      "\n",
      "END\n"
     ]
    }
   ],
   "source": [
    "print(\"Start logistic regression with 3-fold on z normalized features\")\n",
    "for j in range(len(priors)):\n",
    "    print(\"\")\n",
    "    for i in range(len(priors)):\n",
    "        temp = utils.KfoldLR(ZD, L, lr, lambd, prior=priors[i], pi_T=priors[j])\n",
    "        print(\"minDCF for Log-Reg (lambda=10^(-4), pi_T =\", priors[j], \") on application with prior\", priors[i], \":\", temp)\n",
    "print(\"\")\n",
    "print(\"END\")"
   ]
  },
  {
   "cell_type": "code",
   "execution_count": 4,
   "id": "northern-hungarian",
   "metadata": {},
   "outputs": [
    {
     "name": "stdout",
     "output_type": "stream",
     "text": [
      "Start logistic regression with 3-fold on z normalized features PCA m=7\n",
      "\n",
      "minDCF for Log-Reg (lambda=10^(-4), pi_T = 0.5 ) on application with prior 0.5 : 0.11549814771884029\n",
      "minDCF for Log-Reg (lambda=10^(-4), pi_T = 0.5 ) on application with prior 0.9 : 0.5379339398877409\n",
      "minDCF for Log-Reg (lambda=10^(-4), pi_T = 0.5 ) on application with prior 0.1 : 0.21829167647633727\n",
      "\n",
      "minDCF for Log-Reg (lambda=10^(-4), pi_T = 0.9 ) on application with prior 0.5 : 0.12026192909782932\n",
      "minDCF for Log-Reg (lambda=10^(-4), pi_T = 0.9 ) on application with prior 0.9 : 0.5379935866915211\n",
      "minDCF for Log-Reg (lambda=10^(-4), pi_T = 0.9 ) on application with prior 0.1 : 0.21986472946268146\n",
      "\n",
      "minDCF for Log-Reg (lambda=10^(-4), pi_T = 0.1 ) on application with prior 0.5 : 0.1157912734472412\n",
      "minDCF for Log-Reg (lambda=10^(-4), pi_T = 0.1 ) on application with prior 0.9 : 0.5499744810840754\n",
      "minDCF for Log-Reg (lambda=10^(-4), pi_T = 0.1 ) on application with prior 0.1 : 0.21463759608656868\n",
      "\n",
      "END\n"
     ]
    }
   ],
   "source": [
    "print(\"Start logistic regression with 3-fold on z normalized features PCA m=7\")\n",
    "for j in range(len(priors)):\n",
    "    print(\"\")\n",
    "    for i in range(len(priors)):\n",
    "        temp = utils.KfoldLR(PCA7, L, lr, lambd, prior=priors[i], pi_T=priors[j])\n",
    "        print(\"minDCF for Log-Reg (lambda=10^(-4), pi_T =\", priors[j], \") on application with prior\", priors[i], \":\", temp)\n",
    "print(\"\")\n",
    "print(\"END\")"
   ]
  },
  {
   "cell_type": "code",
   "execution_count": 5,
   "id": "narrative-proceeding",
   "metadata": {},
   "outputs": [
    {
     "name": "stdout",
     "output_type": "stream",
     "text": [
      "Start logistic regression with 3-fold on z normalized features PCA m=6\n",
      "\n",
      "minDCF for Log-Reg (lambda=10^(-4), pi_T = 0.5 ) on application with prior 0.5 : 0.12903526778785632\n",
      "minDCF for Log-Reg (lambda=10^(-4), pi_T = 0.5 ) on application with prior 0.9 : 0.5578688933204144\n",
      "minDCF for Log-Reg (lambda=10^(-4), pi_T = 0.5 ) on application with prior 0.1 : 0.23767223014591532\n",
      "\n",
      "minDCF for Log-Reg (lambda=10^(-4), pi_T = 0.9 ) on application with prior 0.5 : 0.13868708220005657\n",
      "minDCF for Log-Reg (lambda=10^(-4), pi_T = 0.9 ) on application with prior 0.9 : 0.5520555084875\n",
      "minDCF for Log-Reg (lambda=10^(-4), pi_T = 0.9 ) on application with prior 0.1 : 0.23810373044933275\n",
      "\n",
      "minDCF for Log-Reg (lambda=10^(-4), pi_T = 0.1 ) on application with prior 0.5 : 0.12905029217168001\n",
      "minDCF for Log-Reg (lambda=10^(-4), pi_T = 0.1 ) on application with prior 0.9 : 0.6003531932149282\n",
      "minDCF for Log-Reg (lambda=10^(-4), pi_T = 0.1 ) on application with prior 0.1 : 0.2435466139771542\n",
      "\n",
      "END\n"
     ]
    }
   ],
   "source": [
    "print(\"Start logistic regression with 3-fold on z normalized features PCA m=6\")\n",
    "for j in range(len(priors)):\n",
    "    print(\"\")\n",
    "    for i in range(len(priors)):\n",
    "        temp = utils.KfoldLR(PCA6, L, lr, lambd, prior=priors[i], pi_T=priors[j])\n",
    "        print(\"minDCF for Log-Reg (lambda=10^(-4), pi_T =\", priors[j], \") on application with prior\", priors[i], \":\", temp)\n",
    "print(\"\")\n",
    "print(\"END\")"
   ]
  },
  {
   "cell_type": "code",
   "execution_count": null,
   "id": "universal-arctic",
   "metadata": {},
   "outputs": [],
   "source": []
  }
 ],
 "metadata": {
  "kernelspec": {
   "display_name": "Python 3",
   "language": "python",
   "name": "python3"
  },
  "language_info": {
   "codemirror_mode": {
    "name": "ipython",
    "version": 3
   },
   "file_extension": ".py",
   "mimetype": "text/x-python",
   "name": "python",
   "nbconvert_exporter": "python",
   "pygments_lexer": "ipython3",
   "version": "3.8.5"
  }
 },
 "nbformat": 4,
 "nbformat_minor": 5
}
