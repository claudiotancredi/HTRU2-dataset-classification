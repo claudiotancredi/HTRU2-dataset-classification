{
 "cells": [
  {
   "cell_type": "code",
   "execution_count": 4,
   "id": "widespread-restoration",
   "metadata": {},
   "outputs": [],
   "source": [
    "import utils\n",
    "import GaussianClassifier\n",
    "import GaussianClassifierNB\n",
    "import GaussianClassifierTiedCov\n",
    "import LogisticRegression\n",
    "import SVM\n",
    "import metrics\n",
    "import PCA\n",
    "import matplotlib.pyplot as plt\n",
    "import numpy as np"
   ]
  },
  {
   "cell_type": "code",
   "execution_count": 5,
   "id": "pointed-booth",
   "metadata": {},
   "outputs": [],
   "source": [
    "priors = [0.5, 0.9, 0.1]\n",
    "D, L = utils.load('Train.txt')\n",
    "DT, LT = utils.load('Test.txt')\n",
    "ZD, mean, standardDeviation = utils.ZNormalization(D)\n",
    "ZDT, mean, standardDeviation = utils.ZNormalization(DT)\n",
    "D7 = PCA.PCA(ZD, L, 7)\n",
    "DT7 = PCA.PCA(ZDT, L, 7)"
   ]
  },
  {
   "cell_type": "code",
   "execution_count": 3,
   "id": "geological-qatar",
   "metadata": {},
   "outputs": [
    {
     "name": "stdout",
     "output_type": "stream",
     "text": [
      "----MVG Full Cov----\n"
     ]
    }
   ],
   "source": [
    "print (\"----MVG Full Cov----\")\n",
    "model = GaussianClassifier.GaussianClassifier()\n",
    "model.train(ZD, L)"
   ]
  },
  {
   "cell_type": "code",
   "execution_count": 4,
   "id": "naked-phrase",
   "metadata": {},
   "outputs": [
    {
     "name": "stdout",
     "output_type": "stream",
     "text": [
      "min DCF MVG Full-Cov with prior=0.5:  0.141\n",
      "min DCF MVG Full-Cov with prior=0.9:  0.638\n",
      "min DCF MVG Full-Cov with prior=0.1:  0.283\n"
     ]
    }
   ],
   "source": [
    "for i in range(len(priors)):\n",
    "    minDCFSF=metrics.minimum_detection_costs(model.predictAndGetScores(ZDT), LT, priors[i], 1, 1)  \n",
    "    print(\"min DCF MVG Full-Cov with prior=%.1f:  %.3f\" %(priors[i], minDCFSF))"
   ]
  },
  {
   "cell_type": "code",
   "execution_count": 5,
   "id": "grave-fluid",
   "metadata": {},
   "outputs": [
    {
     "name": "stdout",
     "output_type": "stream",
     "text": [
      "----MVG Full Cov with PCA=7----\n"
     ]
    }
   ],
   "source": [
    "print (\"----MVG Full Cov with PCA=7----\")\n",
    "model = GaussianClassifier.GaussianClassifier()\n",
    "model.train(D7, L)"
   ]
  },
  {
   "cell_type": "code",
   "execution_count": 6,
   "id": "conscious-going",
   "metadata": {},
   "outputs": [
    {
     "name": "stdout",
     "output_type": "stream",
     "text": [
      "min DCF MVG Full-Cov with PCA=7 with prior=0.5:  0.139\n",
      "min DCF MVG Full-Cov with PCA=7 with prior=0.9:  0.569\n",
      "min DCF MVG Full-Cov with PCA=7 with prior=0.1:  0.292\n"
     ]
    }
   ],
   "source": [
    "for i in range(len(priors)):\n",
    "    minDCFSF=metrics.minimum_detection_costs(model.predictAndGetScores(DT7), LT, priors[i], 1, 1)  \n",
    "    print(\"min DCF MVG Full-Cov with PCA=7 with prior=%.1f:  %.3f\" %(priors[i], minDCFSF))"
   ]
  },
  {
   "cell_type": "code",
   "execution_count": 7,
   "id": "behind-injection",
   "metadata": {},
   "outputs": [
    {
     "name": "stdout",
     "output_type": "stream",
     "text": [
      "----MVG Diag Cov----\n"
     ]
    }
   ],
   "source": [
    "print (\"----MVG Diag Cov----\")\n",
    "model = GaussianClassifierNB.GaussianClassifierNB()\n",
    "model.train(ZD, L)"
   ]
  },
  {
   "cell_type": "code",
   "execution_count": 8,
   "id": "occupational-referral",
   "metadata": {},
   "outputs": [
    {
     "name": "stdout",
     "output_type": "stream",
     "text": [
      "min DCF MVG Diag Cov with prior=0.5:  0.187\n",
      "min DCF MVG Diag Cov with prior=0.9:  0.616\n",
      "min DCF MVG Diag Cov with prior=0.1:  0.325\n"
     ]
    }
   ],
   "source": [
    "for i in range(len(priors)):\n",
    "    minDCFSF=metrics.minimum_detection_costs(model.predictAndGetScores(ZDT), LT, priors[i], 1, 1)  \n",
    "    print(\"min DCF MVG Diag Cov with prior=%.1f:  %.3f\" %(priors[i], minDCFSF))"
   ]
  },
  {
   "cell_type": "code",
   "execution_count": 9,
   "id": "peripheral-casting",
   "metadata": {},
   "outputs": [
    {
     "name": "stdout",
     "output_type": "stream",
     "text": [
      "----MVG Diag Cov with PCA=7----\n"
     ]
    }
   ],
   "source": [
    "print (\"----MVG Diag Cov with PCA=7----\")\n",
    "model = GaussianClassifierNB.GaussianClassifierNB()\n",
    "model.train(D7, L)"
   ]
  },
  {
   "cell_type": "code",
   "execution_count": 10,
   "id": "guided-entrance",
   "metadata": {},
   "outputs": [
    {
     "name": "stdout",
     "output_type": "stream",
     "text": [
      "min DCF MVG Diag-Cov with PCA=7 with prior=0.5:  0.196\n",
      "min DCF MVG Diag-Cov with PCA=7 with prior=0.9:  0.765\n",
      "min DCF MVG Diag-Cov with PCA=7 with prior=0.1:  0.504\n"
     ]
    }
   ],
   "source": [
    "for i in range(len(priors)):\n",
    "    minDCFSF=metrics.minimum_detection_costs(model.predictAndGetScores(DT7), LT, priors[i], 1, 1)  \n",
    "    print(\"min DCF MVG Diag-Cov with PCA=7 with prior=%.1f:  %.3f\" %(priors[i], minDCFSF))"
   ]
  },
  {
   "cell_type": "code",
   "execution_count": 11,
   "id": "textile-reconstruction",
   "metadata": {},
   "outputs": [
    {
     "name": "stdout",
     "output_type": "stream",
     "text": [
      "----MVG Tied Cov----\n"
     ]
    }
   ],
   "source": [
    "print (\"----MVG Tied Cov----\")\n",
    "model = GaussianClassifierTiedCov.GaussianClassifierTiedCov()\n",
    "model.train(ZD, L)"
   ]
  },
  {
   "cell_type": "code",
   "execution_count": 12,
   "id": "covered-scholarship",
   "metadata": {},
   "outputs": [
    {
     "name": "stdout",
     "output_type": "stream",
     "text": [
      "min DCF MVG Tied-Cov with prior=0.5:  0.110\n",
      "min DCF MVG Tied-Cov with prior=0.9:  0.586\n",
      "min DCF MVG Tied-Cov with prior=0.1:  0.206\n"
     ]
    }
   ],
   "source": [
    "for i in range(len(priors)):\n",
    "    minDCFSF=metrics.minimum_detection_costs(model.predictAndGetScores(ZDT), LT, priors[i], 1, 1)  \n",
    "    print(\"min DCF MVG Tied-Cov with prior=%.1f:  %.3f\" %(priors[i], minDCFSF))"
   ]
  },
  {
   "cell_type": "code",
   "execution_count": 13,
   "id": "neutral-wagner",
   "metadata": {},
   "outputs": [
    {
     "name": "stdout",
     "output_type": "stream",
     "text": [
      "----MVG Tied Cov with PCA=7----\n"
     ]
    }
   ],
   "source": [
    "print (\"----MVG Tied Cov with PCA=7----\")\n",
    "model = GaussianClassifierTiedCov.GaussianClassifierTiedCov()\n",
    "model.train(D7, L)"
   ]
  },
  {
   "cell_type": "code",
   "execution_count": 14,
   "id": "several-bronze",
   "metadata": {},
   "outputs": [
    {
     "name": "stdout",
     "output_type": "stream",
     "text": [
      "min DCF MVG Tied-Cov with PCA=7 with prior=0.5:  0.109\n",
      "min DCF MVG Tied-Cov with PCA=7 with prior=0.9:  0.580\n",
      "min DCF MVG Tied-Cov with PCA=7 with prior=0.1:  0.203\n"
     ]
    }
   ],
   "source": [
    "for i in range(len(priors)):\n",
    "    minDCFSF=metrics.minimum_detection_costs(model.predictAndGetScores(DT7), LT, priors[i], 1, 1)  \n",
    "    print(\"min DCF MVG Tied-Cov with PCA=7 with prior=%.1f:  %.3f\" %(priors[i], minDCFSF))"
   ]
  },
  {
   "cell_type": "code",
   "execution_count": 16,
   "id": "quality-section",
   "metadata": {},
   "outputs": [
    {
     "name": "stdout",
     "output_type": "stream",
     "text": [
      "----Logistic Regression----\n"
     ]
    }
   ],
   "source": [
    "lambd=10**(-4)\n",
    "print (\"----Logistic Regression----\")\n",
    "model = LogisticRegression.LogisticRegression()\n",
    "model.train(ZD, L, lambd, 0.5)"
   ]
  },
  {
   "cell_type": "code",
   "execution_count": 17,
   "id": "expanded-converter",
   "metadata": {},
   "outputs": [
    {
     "name": "stdout",
     "output_type": "stream",
     "text": [
      "min DCF Logistic Regression with prior=0.5:  0.110\n",
      "min DCF Logistic Regression with prior=0.9:  0.542\n",
      "min DCF Logistic Regression with prior=0.1:  0.198\n"
     ]
    }
   ],
   "source": [
    "for i in range(len(priors)):\n",
    "    minDCFSF=metrics.minimum_detection_costs(model.predictAndGetScores(ZDT), LT, priors[i], 1, 1)  \n",
    "    print(\"min DCF Logistic Regression with prior=%.1f:  %.3f\" %(priors[i], minDCFSF))"
   ]
  },
  {
   "cell_type": "code",
   "execution_count": 18,
   "id": "ranking-being",
   "metadata": {},
   "outputs": [
    {
     "name": "stdout",
     "output_type": "stream",
     "text": [
      "----Logistic Regression with PCA m=7----\n"
     ]
    }
   ],
   "source": [
    "lambd=10**(-4)\n",
    "print (\"----Logistic Regression with PCA m=7----\")\n",
    "model = LogisticRegression.LogisticRegression()\n",
    "model.train(D7, L, lambd, 0.5)"
   ]
  },
  {
   "cell_type": "code",
   "execution_count": 19,
   "id": "acceptable-camping",
   "metadata": {},
   "outputs": [
    {
     "name": "stdout",
     "output_type": "stream",
     "text": [
      "min DCF Logistic Regression with PCA m=7 with prior=0.5:  0.109\n",
      "min DCF Logistic Regression with PCA m=7 with prior=0.9:  0.545\n",
      "min DCF Logistic Regression with PCA m=7 with prior=0.1:  0.198\n"
     ]
    }
   ],
   "source": [
    "for i in range(len(priors)):\n",
    "    minDCFSF=metrics.minimum_detection_costs(model.predictAndGetScores(DT7), LT, priors[i], 1, 1)  \n",
    "    print(\"min DCF Logistic Regression with PCA m=7 with prior=%.1f:  %.3f\" %(priors[i], minDCFSF))"
   ]
  },
  {
   "cell_type": "code",
   "execution_count": 20,
   "id": "moving-prophet",
   "metadata": {},
   "outputs": [
    {
     "name": "stdout",
     "output_type": "stream",
     "text": [
      "----Linear SVM----\n"
     ]
    }
   ],
   "source": [
    "C=10**(-2)\n",
    "print (\"----Linear SVM----\")\n",
    "model = SVM.SVM()\n",
    "model.train (ZD, L, option='linear', C=C)"
   ]
  },
  {
   "cell_type": "code",
   "execution_count": 21,
   "id": "attractive-president",
   "metadata": {},
   "outputs": [
    {
     "name": "stdout",
     "output_type": "stream",
     "text": [
      "min DCF Linear SVM with prior=0.5:  0.150\n",
      "min DCF Linear SVM with prior=0.9:  0.604\n",
      "min DCF Linear SVM with prior=0.1:  0.300\n"
     ]
    }
   ],
   "source": [
    "for i in range(len(priors)):\n",
    "    minDCFSF=metrics.minimum_detection_costs(model.predictAndGetScores(ZDT), LT, priors[i], 1, 1)  \n",
    "    print(\"min DCF Linear SVM with prior=%.1f:  %.3f\" %(priors[i], minDCFSF))"
   ]
  },
  {
   "cell_type": "code",
   "execution_count": 22,
   "id": "complicated-colors",
   "metadata": {},
   "outputs": [
    {
     "name": "stdout",
     "output_type": "stream",
     "text": [
      "----Linear SVM with PCA m=7----\n"
     ]
    }
   ],
   "source": [
    "C=10**(-2)\n",
    "print (\"----Linear SVM with PCA m=7----\")\n",
    "model = SVM.SVM()\n",
    "model.train (D7, L, option='linear', C=C)"
   ]
  },
  {
   "cell_type": "code",
   "execution_count": 23,
   "id": "potential-radical",
   "metadata": {},
   "outputs": [
    {
     "name": "stdout",
     "output_type": "stream",
     "text": [
      "min DCF linear SVM with PCA m=7 with prior=0.5:  0.152\n",
      "min DCF linear SVM with PCA m=7 with prior=0.9:  0.601\n",
      "min DCF linear SVM with PCA m=7 with prior=0.1:  0.303\n"
     ]
    }
   ],
   "source": [
    "for i in range(len(priors)):\n",
    "    minDCFSF=metrics.minimum_detection_costs(model.predictAndGetScores(DT7), LT, priors[i], 1, 1)  \n",
    "    print(\"min DCF linear SVM with PCA m=7 with prior=%.1f:  %.3f\" %(priors[i], minDCFSF))"
   ]
  },
  {
   "cell_type": "code",
   "execution_count": 24,
   "id": "expired-wellington",
   "metadata": {},
   "outputs": [
    {
     "name": "stdout",
     "output_type": "stream",
     "text": [
      "----Quadratic SVM----\n"
     ]
    }
   ],
   "source": [
    "C=5*10**(-5)\n",
    "print (\"----Quadratic SVM----\")\n",
    "model = SVM.SVM()\n",
    "model.train (ZD, L, option='polynomial', d=2, c=10, C=C)"
   ]
  },
  {
   "cell_type": "code",
   "execution_count": 25,
   "id": "wired-shape",
   "metadata": {},
   "outputs": [
    {
     "name": "stdout",
     "output_type": "stream",
     "text": [
      "min DCF Quadratic SVM with prior=0.5:  0.182\n",
      "min DCF Quadratic SVM with prior=0.9:  0.610\n",
      "min DCF Quadratic SVM with prior=0.1:  0.345\n"
     ]
    }
   ],
   "source": [
    "for i in range(len(priors)):\n",
    "    minDCFSF=metrics.minimum_detection_costs(model.predictAndGetScores(ZDT), LT, priors[i], 1, 1)  \n",
    "    print(\"min DCF Quadratic SVM with prior=%.1f:  %.3f\" %(priors[i], minDCFSF))"
   ]
  },
  {
   "cell_type": "code",
   "execution_count": 26,
   "id": "sharing-siemens",
   "metadata": {},
   "outputs": [
    {
     "name": "stdout",
     "output_type": "stream",
     "text": [
      "----Quadratic SVM with PCA m=7----\n"
     ]
    }
   ],
   "source": [
    "C=5*10**(-5)\n",
    "print (\"----Quadratic SVM with PCA m=7----\")\n",
    "model = SVM.SVM()\n",
    "model.train (D7, L, option='polynomial', d=2, c=10, C=C)"
   ]
  },
  {
   "cell_type": "code",
   "execution_count": 27,
   "id": "included-talent",
   "metadata": {},
   "outputs": [
    {
     "name": "stdout",
     "output_type": "stream",
     "text": [
      "min DCF Quadratic SVM with PCA m=7 with prior=0.5:  0.183\n",
      "min DCF Quadratic SVM with PCA m=7 with prior=0.9:  0.607\n",
      "min DCF Quadratic SVM with PCA m=7 with prior=0.1:  0.348\n"
     ]
    }
   ],
   "source": [
    "for i in range(len(priors)):\n",
    "    minDCFSF=metrics.minimum_detection_costs(model.predictAndGetScores(DT7), LT, priors[i], 1, 1)  \n",
    "    print(\"min DCF Quadratic SVM with PCA m=7 with prior=%.1f:  %.3f\" %(priors[i], minDCFSF))"
   ]
  },
  {
   "cell_type": "code",
   "execution_count": 28,
   "id": "devoted-nevada",
   "metadata": {},
   "outputs": [
    {
     "name": "stdout",
     "output_type": "stream",
     "text": [
      "----RBF SVM----\n"
     ]
    }
   ],
   "source": [
    "C=10**(-1)\n",
    "print (\"----RBF SVM----\")\n",
    "model = SVM.SVM()\n",
    "model.train (ZD, L, option='RBF', C=C, gamma=10**(-3))"
   ]
  },
  {
   "cell_type": "code",
   "execution_count": 29,
   "id": "cathedral-platinum",
   "metadata": {},
   "outputs": [
    {
     "name": "stdout",
     "output_type": "stream",
     "text": [
      "min DCF RBF SVM with prior=0.5:  0.176\n",
      "min DCF RBF SVM with prior=0.9:  0.811\n",
      "min DCF RBF SVM with prior=0.1:  0.259\n"
     ]
    }
   ],
   "source": [
    "for i in range(len(priors)):\n",
    "    minDCFSF=metrics.minimum_detection_costs(model.predictAndGetScores(ZDT), LT, priors[i], 1, 1)  \n",
    "    print(\"min DCF RBF SVM with prior=%.1f:  %.3f\" %(priors[i], minDCFSF))"
   ]
  },
  {
   "cell_type": "code",
   "execution_count": 6,
   "id": "assumed-mathematics",
   "metadata": {},
   "outputs": [
    {
     "name": "stdout",
     "output_type": "stream",
     "text": [
      "----RBF SVM with PCA m=7----\n"
     ]
    }
   ],
   "source": [
    "C=10**(-1)\n",
    "print (\"----RBF SVM with PCA m=7----\")\n",
    "model = SVM.SVM()\n",
    "model.train (D7, L, option='RBF', C=C, gamma=10**(-3))"
   ]
  },
  {
   "cell_type": "code",
   "execution_count": 7,
   "id": "structural-miami",
   "metadata": {},
   "outputs": [
    {
     "name": "stdout",
     "output_type": "stream",
     "text": [
      "min DCF RBF SVM with PCA m=7 with prior=0.5:  0.174\n",
      "min DCF RBF SVM with PCA m=7 with prior=0.9:  0.820\n",
      "min DCF RBF SVM with PCA m=7 with prior=0.1:  0.256\n"
     ]
    }
   ],
   "source": [
    "for i in range(len(priors)):\n",
    "    minDCFSF=metrics.minimum_detection_costs(model.predictAndGetScores(DT7), LT, priors[i], 1, 1)  \n",
    "    print(\"min DCF RBF SVM with PCA m=7 with prior=%.1f:  %.3f\" %(priors[i], minDCFSF))"
   ]
  },
  {
   "cell_type": "code",
   "execution_count": null,
   "id": "broadband-panic",
   "metadata": {},
   "outputs": [],
   "source": []
  }
 ],
 "metadata": {
  "kernelspec": {
   "display_name": "Python 3",
   "language": "python",
   "name": "python3"
  },
  "language_info": {
   "codemirror_mode": {
    "name": "ipython",
    "version": 3
   },
   "file_extension": ".py",
   "mimetype": "text/x-python",
   "name": "python",
   "nbconvert_exporter": "python",
   "pygments_lexer": "ipython3",
   "version": "3.7.9"
  }
 },
 "nbformat": 4,
 "nbformat_minor": 5
}
