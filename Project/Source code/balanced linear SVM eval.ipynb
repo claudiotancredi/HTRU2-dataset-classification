{
 "cells": [
  {
   "cell_type": "code",
   "execution_count": 1,
   "id": "upset-meditation",
   "metadata": {},
   "outputs": [
    {
     "name": "stderr",
     "output_type": "stream",
     "text": [
      "\n",
      "Bad key \"text.kerning_factor\" on line 4 in\n",
      "/opt/anaconda3/envs/bigdatalab_cpu_202101/lib/python3.7/site-packages/matplotlib/mpl-data/stylelib/_classic_test_patch.mplstyle.\n",
      "You probably need to get an updated matplotlibrc file from\n",
      "https://github.com/matplotlib/matplotlib/blob/v3.1.2/matplotlibrc.template\n",
      "or from the matplotlib source distribution\n"
     ]
    }
   ],
   "source": [
    "import utils\n",
    "import metrics\n",
    "import PCA\n",
    "import balancedSVM\n",
    "import numpy as np"
   ]
  },
  {
   "cell_type": "code",
   "execution_count": 2,
   "id": "weekly-slope",
   "metadata": {},
   "outputs": [
    {
     "name": "stdout",
     "output_type": "stream",
     "text": [
      "Executing linear SVM with no re-balancing\n"
     ]
    }
   ],
   "source": [
    "priors = [0.5, 0.9, 0.1]\n",
    "D, L = utils.load('Train.txt')\n",
    "ZD, mean, standardDeviation = utils.ZNormalization(D)\n",
    "C = 10**(-3)\n",
    "model = balancedSVM.SVM()\n",
    "PCA7 = PCA.PCA(ZD, L, 7)\n",
    "PCA6 = PCA.PCA(ZD, L, 6)\n",
    "print (\"Executing linear SVM with no re-balancing\")"
   ]
  },
  {
   "cell_type": "code",
   "execution_count": 3,
   "id": "subject-agenda",
   "metadata": {},
   "outputs": [
    {
     "name": "stdout",
     "output_type": "stream",
     "text": [
      "Data with no PCA\n",
      "\n",
      "Working on application with prior: 0.5\n",
      "For prior  0.5 the minDCF is 0.13016595255248425\n",
      "\n",
      "Working on application with prior: 0.9\n",
      "For prior  0.9 the minDCF is 0.6011109847192205\n",
      "\n",
      "Working on application with prior: 0.1\n",
      "For prior  0.1 the minDCF is 0.2466044818564441\n",
      "\n",
      "END\n"
     ]
    }
   ],
   "source": [
    "# SINGLE FOLD Z NORMALIZED SVM LINEAR\n",
    "print (\"Data with no PCA\")\n",
    "(DTRSF, LTRSF), (DEVSF, LEVSF) = utils.split_db_singleFold(ZD, L)\n",
    "model.train(DTRSF, LTRSF, option='linear',C=C)\n",
    "\n",
    "for i in range(len(priors)):\n",
    "    print(\"\")\n",
    "    print(\"Working on application with prior:\", priors[i])\n",
    "    minDCF = metrics.minimum_detection_costs(model.predictAndGetScores(DEVSF), LEVSF, priors[i], 1, 1)\n",
    "    print (\"For prior \", priors[i], \"the minDCF is\", minDCF)\n",
    "    \n",
    "print(\"\")\n",
    "print(\"END\")\n",
    "    "
   ]
  },
  {
   "cell_type": "code",
   "execution_count": 4,
   "id": "labeled-charles",
   "metadata": {},
   "outputs": [
    {
     "name": "stdout",
     "output_type": "stream",
     "text": [
      "Data with with PCA = 7\n",
      "\n",
      "Working on application with prior: 0.5\n",
      "For prior  0.5 the minDCF is 0.13057293444052628\n",
      "\n",
      "Working on application with prior: 0.9\n",
      "For prior  0.9 the minDCF is 0.6059581137274234\n",
      "\n",
      "Working on application with prior: 0.1\n",
      "For prior  0.1 the minDCF is 0.2499601865544307\n",
      "\n",
      "END\n"
     ]
    }
   ],
   "source": [
    "# SINGLE FOLD Z NORMALIZED SVM LINEAR PCA=7\n",
    "(DTRSF, LTRSF), (DEVSF, LEVSF) = utils.split_db_singleFold(PCA7, L)\n",
    "model.train(DTRSF, LTRSF, option='linear',C=C)\n",
    "print (\"Data with with PCA = 7\")\n",
    "for i in range(len(priors)):\n",
    "    print(\"\")\n",
    "    print(\"Working on application with prior:\", priors[i])\n",
    "    minDCF = metrics.minimum_detection_costs(model.predictAndGetScores(DEVSF), LEVSF, priors[i], 1, 1)\n",
    "    print (\"For prior \", priors[i], \"the minDCF is\", minDCF)\n",
    "    \n",
    "print(\"\")\n",
    "print(\"END\")"
   ]
  },
  {
   "cell_type": "code",
   "execution_count": 5,
   "id": "proof-middle",
   "metadata": {},
   "outputs": [
    {
     "name": "stdout",
     "output_type": "stream",
     "text": [
      "Data with with PCA = 6\n",
      "\n",
      "Working on application with prior: 0.5\n",
      "For prior  0.5 the minDCF is 0.13694561356943338\n",
      "\n",
      "Working on application with prior: 0.9\n",
      "For prior  0.9 the minDCF is 0.5987196501472466\n",
      "\n",
      "Working on application with prior: 0.1\n",
      "For prior  0.1 the minDCF is 0.26355363439881696\n",
      "\n",
      "END\n"
     ]
    }
   ],
   "source": [
    "# SINGLE FOLD Z NORMALIZED SVM LINEAR PCA=6\n",
    "(DTRSF, LTRSF), (DEVSF, LEVSF) = utils.split_db_singleFold(PCA6, L)\n",
    "model.train(DTRSF, LTRSF, option='linear',C=C)\n",
    "print (\"Data with with PCA = 6\")\n",
    "\n",
    "for i in range(len(priors)):\n",
    "    print(\"\")\n",
    "    print(\"Working on application with prior:\", priors[i])\n",
    "    minDCF = metrics.minimum_detection_costs(model.predictAndGetScores(DEVSF), LEVSF, priors[i], 1, 1)\n",
    "    print (\"For prior \", priors[i], \"the minDCF is\", minDCF)\n",
    "    \n",
    "print(\"\")\n",
    "print(\"END\")"
   ]
  },
  {
   "cell_type": "code",
   "execution_count": 6,
   "id": "placed-monitor",
   "metadata": {},
   "outputs": [
    {
     "name": "stdout",
     "output_type": "stream",
     "text": [
      "Start linear SVM with 3-fold on z normalized features\n",
      "\n",
      "Working on application with prior: 0.5\n",
      "For prior  0.5 the minDCF is 0.15385870498525583\n",
      "\n",
      "Working on application with prior: 0.9\n",
      "For prior  0.9 the minDCF is 0.6508949199102685\n",
      "\n",
      "Working on application with prior: 0.1\n",
      "For prior  0.1 the minDCF is 0.27754348920580657\n",
      "\n",
      "END\n"
     ]
    }
   ],
   "source": [
    "print(\"Start linear SVM with 3-fold on z normalized features\")\n",
    "\n",
    "for i in range(len(priors)):\n",
    "    print(\"\")\n",
    "    print(\"Working on application with prior:\", priors[i])\n",
    " \n",
    "    temp = utils.KfoldSVM(ZD, L, model, option='linear', C=C, prior=priors[i])\n",
    "    print (\"For prior \", priors[i], \"the minDCF is\", temp)\n",
    "print(\"\")\n",
    "print(\"END\")"
   ]
  },
  {
   "cell_type": "code",
   "execution_count": 7,
   "id": "adaptive-violence",
   "metadata": {},
   "outputs": [
    {
     "name": "stdout",
     "output_type": "stream",
     "text": [
      "Start linear SVM with 3-fold on z normalized features with PCA = 7\n",
      "\n",
      "Working on application with prior: 0.5\n",
      "For prior  0.5 the minDCF is 0.15336530422048464\n",
      "\n",
      "Working on application with prior: 0.9\n",
      "For prior  0.9 the minDCF is 0.6518817214398108\n",
      "\n",
      "Working on application with prior: 0.1\n",
      "For prior  0.1 the minDCF is 0.27987166772313127\n",
      "\n",
      "END\n"
     ]
    }
   ],
   "source": [
    "print(\"Start linear SVM with 3-fold on z normalized features with PCA = 7\")\n",
    "\n",
    "for i in range(len(priors)):\n",
    "    print(\"\")\n",
    "    print(\"Working on application with prior:\", priors[i])\n",
    " \n",
    "    temp = utils.KfoldSVM(PCA7, L, model, option='linear', C=C, prior=priors[i])\n",
    "    print (\"For prior \", priors[i], \"the minDCF is\", temp)\n",
    "print(\"\")\n",
    "print(\"END\")"
   ]
  },
  {
   "cell_type": "code",
   "execution_count": null,
   "id": "extended-still",
   "metadata": {},
   "outputs": [
    {
     "name": "stdout",
     "output_type": "stream",
     "text": [
      "Start linear SVM with 3-fold on z normalized features with PCA = 6\n",
      "\n",
      "Working on application with prior: 0.5\n",
      "For prior  0.5 the minDCF is 0.1589315379394989\n",
      "\n",
      "Working on application with prior: 0.9\n",
      "For prior  0.9 the minDCF is 0.6628598884559698\n",
      "\n",
      "Working on application with prior: 0.1\n"
     ]
    }
   ],
   "source": [
    "print(\"Start linear SVM with 3-fold on z normalized features with PCA = 6\")\n",
    "\n",
    "for i in range(len(priors)):\n",
    "    print(\"\")\n",
    "    print(\"Working on application with prior:\", priors[i])\n",
    " \n",
    "    temp = utils.KfoldSVM(PCA6, L, model, option='linear', C=C, prior=priors[i])\n",
    "    print (\"For prior \", priors[i], \"the minDCF is\", temp)\n",
    "print(\"\")\n",
    "print(\"END\")"
   ]
  }
 ],
 "metadata": {
  "kernelspec": {
   "display_name": "Python 3",
   "language": "python",
   "name": "python3"
  },
  "language_info": {
   "codemirror_mode": {
    "name": "ipython",
    "version": 3
   },
   "file_extension": ".py",
   "mimetype": "text/x-python",
   "name": "python",
   "nbconvert_exporter": "python",
   "pygments_lexer": "ipython3",
   "version": "3.7.9"
  }
 },
 "nbformat": 4,
 "nbformat_minor": 5
}
