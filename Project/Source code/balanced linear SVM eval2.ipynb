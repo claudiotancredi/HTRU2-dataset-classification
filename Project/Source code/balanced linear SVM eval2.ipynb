{
 "cells": [
  {
   "cell_type": "code",
   "execution_count": 3,
   "id": "suitable-combat",
   "metadata": {},
   "outputs": [],
   "source": [
    "import utils\n",
    "import metrics\n",
    "import PCA\n",
    "import balancedSVM\n",
    "import numpy as np"
   ]
  },
  {
   "cell_type": "code",
   "execution_count": 4,
   "id": "institutional-shock",
   "metadata": {},
   "outputs": [
    {
     "name": "stdout",
     "output_type": "stream",
     "text": [
      "Executing linear SVM with no re-balancing\n"
     ]
    }
   ],
   "source": [
    "priors = [0.5, 0.9, 0.1]\n",
    "D, L = utils.load('Train.txt')\n",
    "ZD, mean, standardDeviation = utils.ZNormalization(D)\n",
    "C = 10**(-3)\n",
    "model = balancedSVM.SVM()\n",
    "PCA7 = PCA.PCA(ZD, L, 7)\n",
    "PCA6 = PCA.PCA(ZD, L, 6)\n",
    "print (\"Executing linear SVM with no re-balancing\")"
   ]
  },
  {
   "cell_type": "code",
   "execution_count": 5,
   "id": "reverse-millennium",
   "metadata": {},
   "outputs": [
    {
     "name": "stdout",
     "output_type": "stream",
     "text": [
      "Data with no PCA\n",
      "\n",
      "Working on application with prior: 0.5\n",
      "For prior  0.5 the minDCF is 0.12128565831216269\n",
      "\n",
      "Working on application with prior: 0.9\n",
      "For prior  0.9 the minDCF is 0.6398222930016811\n",
      "\n",
      "Working on application with prior: 0.1\n",
      "For prior  0.1 the minDCF is 0.24328290296894547\n",
      "\n",
      "END\n"
     ]
    }
   ],
   "source": [
    "# SINGLE FOLD Z NORMALIZED SVM LINEAR\n",
    "print (\"Data with no PCA\")\n",
    "(DTRSF, LTRSF), (DEVSF, LEVSF) = utils.split_db_singleFold(ZD, L)\n",
    "model.train(DTRSF, LTRSF, option='linear',C=C, piT=0.5)\n",
    "\n",
    "for i in range(len(priors)):\n",
    "    print(\"\")\n",
    "    print(\"Working on application with prior:\", priors[i])\n",
    "    minDCF = metrics.minimum_detection_costs(model.predictAndGetScores(DEVSF), LEVSF, priors[i], 1, 1)\n",
    "    print (\"For prior \", priors[i], \"the minDCF is\", minDCF)\n",
    "    \n",
    "print(\"\")\n",
    "print(\"END\")\n",
    "    "
   ]
  },
  {
   "cell_type": "code",
   "execution_count": 6,
   "id": "verified-union",
   "metadata": {},
   "outputs": [
    {
     "name": "stdout",
     "output_type": "stream",
     "text": [
      "Data with with PCA = 7\n",
      "\n",
      "Working on application with prior: 0.5\n",
      "For prior  0.5 the minDCF is 0.12128565831216269\n",
      "\n",
      "Working on application with prior: 0.9\n",
      "For prior  0.9 the minDCF is 0.6409408612343432\n",
      "\n",
      "Working on application with prior: 0.1\n",
      "For prior  0.1 the minDCF is 0.24328290296894547\n",
      "\n",
      "END\n"
     ]
    }
   ],
   "source": [
    "# SINGLE FOLD Z NORMALIZED SVM LINEAR PCA=7\n",
    "(DTRSF, LTRSF), (DEVSF, LEVSF) = utils.split_db_singleFold(PCA7, L)\n",
    "model.train(DTRSF, LTRSF, option='linear',C=C, piT=0.5)\n",
    "print (\"Data with with PCA = 7\")\n",
    "for i in range(len(priors)):\n",
    "    print(\"\")\n",
    "    print(\"Working on application with prior:\", priors[i])\n",
    "    minDCF = metrics.minimum_detection_costs(model.predictAndGetScores(DEVSF), LEVSF, priors[i], 1, 1)\n",
    "    print (\"For prior \", priors[i], \"the minDCF is\", minDCF)\n",
    "    \n",
    "print(\"\")\n",
    "print(\"END\")"
   ]
  },
  {
   "cell_type": "code",
   "execution_count": 7,
   "id": "bigger-fitness",
   "metadata": {},
   "outputs": [
    {
     "name": "stdout",
     "output_type": "stream",
     "text": [
      "Data with with PCA = 6\n",
      "\n",
      "Working on application with prior: 0.5\n",
      "For prior  0.5 the minDCF is 0.12277708262237894\n",
      "\n",
      "Working on application with prior: 0.9\n",
      "For prior  0.9 the minDCF is 0.6360937322261405\n",
      "\n",
      "Working on application with prior: 0.1\n",
      "For prior  0.1 the minDCF is 0.2533500170629052\n",
      "\n",
      "END\n"
     ]
    }
   ],
   "source": [
    "# SINGLE FOLD Z NORMALIZED SVM LINEAR PCA=6\n",
    "(DTRSF, LTRSF), (DEVSF, LEVSF) = utils.split_db_singleFold(PCA6, L)\n",
    "model.train(DTRSF, LTRSF, option='linear',C=C, piT=0.5)\n",
    "print (\"Data with with PCA = 6\")\n",
    "\n",
    "for i in range(len(priors)):\n",
    "    print(\"\")\n",
    "    print(\"Working on application with prior:\", priors[i])\n",
    "    minDCF = metrics.minimum_detection_costs(model.predictAndGetScores(DEVSF), LEVSF, priors[i], 1, 1)\n",
    "    print (\"For prior \", priors[i], \"the minDCF is\", minDCF)\n",
    "    \n",
    "print(\"\")\n",
    "print(\"END\")"
   ]
  },
  {
   "cell_type": "code",
   "execution_count": 8,
   "id": "understanding-eating",
   "metadata": {},
   "outputs": [
    {
     "name": "stdout",
     "output_type": "stream",
     "text": [
      "Start linear SVM with 3-fold on z normalized features\n",
      "\n",
      "Working on application with prior: 0.5\n",
      "For prior  0.5 the minDCF is 0.158638412211098\n",
      "\n",
      "Working on application with prior: 0.9\n",
      "For prior  0.9 the minDCF is 0.6794444042959522\n",
      "\n",
      "Working on application with prior: 0.1\n",
      "For prior  0.1 the minDCF is 0.27603323814384556\n",
      "\n",
      "END\n"
     ]
    }
   ],
   "source": [
    "print(\"Start linear SVM with 3-fold on z normalized features\")\n",
    "\n",
    "for i in range(len(priors)):\n",
    "    print(\"\")\n",
    "    print(\"Working on application with prior:\", priors[i])\n",
    " \n",
    "    temp = utils.KfoldSVM(ZD, L, model, option='linear', C=C, piT=0.5, prior=priors[i])\n",
    "    print (\"For prior \", priors[i], \"the minDCF is\", temp)\n",
    "print(\"\")\n",
    "print(\"END\")"
   ]
  },
  {
   "cell_type": "code",
   "execution_count": 9,
   "id": "anonymous-indicator",
   "metadata": {},
   "outputs": [
    {
     "name": "stdout",
     "output_type": "stream",
     "text": [
      "Start linear SVM with 3-fold on z normalized features with PCA = 7\n",
      "\n",
      "Working on application with prior: 0.5\n",
      "For prior  0.5 the minDCF is 0.1585150620199052\n",
      "\n",
      "Working on application with prior: 0.9\n",
      "For prior  0.9 the minDCF is 0.6810479567814586\n",
      "\n",
      "Working on application with prior: 0.1\n",
      "For prior  0.1 the minDCF is 0.27600183718165394\n",
      "\n",
      "END\n"
     ]
    }
   ],
   "source": [
    "print(\"Start linear SVM with 3-fold on z normalized features with PCA = 7\")\n",
    "\n",
    "for i in range(len(priors)):\n",
    "    print(\"\")\n",
    "    print(\"Working on application with prior:\", priors[i])\n",
    " \n",
    "    temp = utils.KfoldSVM(PCA7, L, model, option='linear', C=C, piT=0.5, prior=priors[i])\n",
    "    print (\"For prior \", priors[i], \"the minDCF is\", temp)\n",
    "print(\"\")\n",
    "print(\"END\")"
   ]
  },
  {
   "cell_type": "code",
   "execution_count": 10,
   "id": "developmental-mining",
   "metadata": {},
   "outputs": [
    {
     "name": "stdout",
     "output_type": "stream",
     "text": [
      "Start linear SVM with 3-fold on z normalized features with PCA = 6\n",
      "\n",
      "Working on application with prior: 0.5\n",
      "For prior  0.5 the minDCF is 0.16170669187557946\n",
      "\n",
      "Working on application with prior: 0.9\n",
      "For prior  0.9 the minDCF is 0.6804034107154207\n",
      "\n",
      "Working on application with prior: 0.1\n",
      "For prior  0.1 the minDCF is 0.2807974702543493\n",
      "\n",
      "END\n"
     ]
    }
   ],
   "source": [
    "print(\"Start linear SVM with 3-fold on z normalized features with PCA = 6\")\n",
    "\n",
    "for i in range(len(priors)):\n",
    "    print(\"\")\n",
    "    print(\"Working on application with prior:\", priors[i])\n",
    " \n",
    "    temp = utils.KfoldSVM(PCA6, L, model, option='linear', C=C, piT=0.5, prior=priors[i])\n",
    "    print (\"For prior \", priors[i], \"the minDCF is\", temp)\n",
    "print(\"\")\n",
    "print(\"END\")"
   ]
  },
  {
   "cell_type": "code",
   "execution_count": null,
   "id": "fiscal-cooperative",
   "metadata": {},
   "outputs": [],
   "source": []
  }
 ],
 "metadata": {
  "kernelspec": {
   "display_name": "Python 3",
   "language": "python",
   "name": "python3"
  },
  "language_info": {
   "codemirror_mode": {
    "name": "ipython",
    "version": 3
   },
   "file_extension": ".py",
   "mimetype": "text/x-python",
   "name": "python",
   "nbconvert_exporter": "python",
   "pygments_lexer": "ipython3",
   "version": "3.7.9"
  }
 },
 "nbformat": 4,
 "nbformat_minor": 5
}
